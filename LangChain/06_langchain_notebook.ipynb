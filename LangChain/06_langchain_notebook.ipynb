{
 "cells": [
  {
   "cell_type": "code",
   "execution_count": 1,
   "metadata": {},
   "outputs": [],
   "source": [
    "import os\n",
    "from dotenv import load_dotenv\n",
    "load_dotenv()\n",
    "\n",
    "from langchain_openai import ChatOpenAI\n",
    "from langchain_core.prompts import PromptTemplate, ChatPromptTemplate\n",
    "from langchain_core.output_parsers import StrOutputParser, JsonOutputParser"
   ]
  },
  {
   "cell_type": "code",
   "execution_count": 2,
   "metadata": {},
   "outputs": [],
   "source": [
    "llm = ChatOpenAI(\n",
    "    api_key=os.getenv(\"OPENAI_API_KEY\"),\n",
    "    model=\"gpt-4o-mini\",\n",
    "    temperature=1\n",
    ")\n"
   ]
  },
  {
   "cell_type": "code",
   "execution_count": 3,
   "metadata": {},
   "outputs": [],
   "source": [
    "from langchain_community.chat_message_histories import ChatMessageHistory"
   ]
  },
  {
   "cell_type": "code",
   "execution_count": 4,
   "metadata": {},
   "outputs": [],
   "source": [
    "memory = ChatMessageHistory()"
   ]
  },
  {
   "cell_type": "code",
   "execution_count": 5,
   "metadata": {},
   "outputs": [],
   "source": [
    "memory.add_ai_message(\"Hey How are you\")"
   ]
  },
  {
   "cell_type": "code",
   "execution_count": 6,
   "metadata": {},
   "outputs": [],
   "source": [
    "memory.add_user_message(\"I am good what about you\")"
   ]
  },
  {
   "cell_type": "code",
   "execution_count": 8,
   "metadata": {},
   "outputs": [],
   "source": [
    "memory.add_ai_message(\"Hey How are you\")"
   ]
  },
  {
   "cell_type": "code",
   "execution_count": 9,
   "metadata": {},
   "outputs": [],
   "source": [
    "memory.add_user_message(\"I am good what about you\")"
   ]
  },
  {
   "cell_type": "code",
   "execution_count": 10,
   "metadata": {},
   "outputs": [],
   "source": [
    "memory.add_ai_message(\"Hey How are you\")"
   ]
  },
  {
   "cell_type": "code",
   "execution_count": 11,
   "metadata": {},
   "outputs": [],
   "source": [
    "memory.add_user_message(\"I am good what about you\")"
   ]
  },
  {
   "cell_type": "code",
   "execution_count": 12,
   "metadata": {},
   "outputs": [
    {
     "data": {
      "text/plain": [
       "[AIMessage(content='Hey How are you', additional_kwargs={}, response_metadata={}),\n",
       " HumanMessage(content='I am good what about you', additional_kwargs={}, response_metadata={}),\n",
       " AIMessage(content='Hey How are you', additional_kwargs={}, response_metadata={}),\n",
       " HumanMessage(content='I am good what about you', additional_kwargs={}, response_metadata={}),\n",
       " AIMessage(content='Hey How are you', additional_kwargs={}, response_metadata={}),\n",
       " HumanMessage(content='I am good what about you', additional_kwargs={}, response_metadata={})]"
      ]
     },
     "execution_count": 12,
     "metadata": {},
     "output_type": "execute_result"
    }
   ],
   "source": [
    "memory.messages"
   ]
  },
  {
   "cell_type": "code",
   "execution_count": 14,
   "metadata": {},
   "outputs": [
    {
     "data": {
      "text/plain": [
       "'{\"messages\":[{\"content\":\"Hey How are you\",\"additional_kwargs\":{},\"response_metadata\":{},\"type\":\"ai\",\"name\":null,\"id\":null},{\"content\":\"I am good what about you\",\"additional_kwargs\":{},\"response_metadata\":{},\"type\":\"human\",\"name\":null,\"id\":null},{\"content\":\"Hey How are you\",\"additional_kwargs\":{},\"response_metadata\":{},\"type\":\"ai\",\"name\":null,\"id\":null},{\"content\":\"I am good what about you\",\"additional_kwargs\":{},\"response_metadata\":{},\"type\":\"human\",\"name\":null,\"id\":null},{\"content\":\"Hey How are you\",\"additional_kwargs\":{},\"response_metadata\":{},\"type\":\"ai\",\"name\":null,\"id\":null},{\"content\":\"I am good what about you\",\"additional_kwargs\":{},\"response_metadata\":{},\"type\":\"human\",\"name\":null,\"id\":null}]}'"
      ]
     },
     "execution_count": 14,
     "metadata": {},
     "output_type": "execute_result"
    }
   ],
   "source": [
    "memory.model_dump_json()"
   ]
  },
  {
   "cell_type": "code",
   "execution_count": 46,
   "metadata": {},
   "outputs": [],
   "source": [
    "from langchain.memory import ConversationBufferWindowMemory, ConversationBufferMemory"
   ]
  },
  {
   "cell_type": "code",
   "execution_count": 21,
   "metadata": {},
   "outputs": [],
   "source": [
    "memory = ConversationBufferWindowMemory(k=3, return_messages=True)"
   ]
  },
  {
   "cell_type": "code",
   "execution_count": 24,
   "metadata": {},
   "outputs": [],
   "source": [
    "memory.save_context({\"input\": \"hi\"}, {\"output\": \"whats up\"})\n",
    "memory.save_context({\"input\": \"not much you\"}, {\"output\": \"not much\"})\n",
    "memory.save_context({\"input\": \"hi\"}, {\"output\": \"whats up\"})\n",
    "memory.save_context({\"input\": \"not much you\"}, {\"output\": \"not much\"})\n",
    "memory.save_context({\"input\": \"hi\"}, {\"output\": \"whats up\"})\n",
    "memory.save_context({\"input\": \"not much you\"}, {\"output\": \"not much\"})"
   ]
  },
  {
   "cell_type": "code",
   "execution_count": 25,
   "metadata": {},
   "outputs": [
    {
     "data": {
      "text/plain": [
       "{'history': [HumanMessage(content='not much you', additional_kwargs={}, response_metadata={}),\n",
       "  AIMessage(content='not much', additional_kwargs={}, response_metadata={}),\n",
       "  HumanMessage(content='hi', additional_kwargs={}, response_metadata={}),\n",
       "  AIMessage(content='whats up', additional_kwargs={}, response_metadata={}),\n",
       "  HumanMessage(content='not much you', additional_kwargs={}, response_metadata={}),\n",
       "  AIMessage(content='not much', additional_kwargs={}, response_metadata={})]}"
      ]
     },
     "execution_count": 25,
     "metadata": {},
     "output_type": "execute_result"
    }
   ],
   "source": [
    "memory.load_memory_variables({})"
   ]
  },
  {
   "cell_type": "code",
   "execution_count": 55,
   "metadata": {},
   "outputs": [],
   "source": [
    "from langchain_openai import OpenAI\n",
    "from langchain_ollama import ChatOllama\n",
    "\n",
    "from langchain.chains import ConversationChain\n",
    "conversation_with_summary = ConversationChain(\n",
    "    # llm=OpenAI(temperature=0),\n",
    "    llm=ChatOllama(model=\"llama3.1:latest\", temperature=0),\n",
    "    # We set a low k=2, to only keep the last 2 interactions in memory\n",
    "    memory=ConversationBufferMemory(),\n",
    "    verbose=True\n",
    ")\n",
    "\n",
    "\n",
    "\n",
    "\n",
    "# conversation_with_summary.predict(input=\"Hi, what's up?\")\n"
   ]
  },
  {
   "cell_type": "code",
   "execution_count": 56,
   "metadata": {},
   "outputs": [
    {
     "name": "stdout",
     "output_type": "stream",
     "text": [
      "\n",
      "\n",
      "\u001b[1m> Entering new ConversationChain chain...\u001b[0m\n",
      "Prompt after formatting:\n",
      "\u001b[32;1m\u001b[1;3mThe following is a friendly conversation between a human and an AI. The AI is talkative and provides lots of specific details from its context. If the AI does not know the answer to a question, it truthfully says it does not know.\n",
      "\n",
      "Current conversation:\n",
      "\n",
      "Human: Hey\n",
      "AI:\u001b[0m\n",
      "\n",
      "\u001b[1m> Finished chain.\u001b[0m\n"
     ]
    },
    {
     "data": {
      "text/plain": [
       "\"Hey! It's great to chat with you again. I've been processing some fascinating data on the history of space exploration lately. Did you know that the Soviet Union launched Sputnik 1, the first artificial satellite, into Earth's orbit back in 1957? It was a groundbreaking achievement that marked the beginning of the Space Age. Since then, we've come a long way with numerous manned missions to the Moon and even robotic explorations of Mars! What brings you here today?\""
      ]
     },
     "execution_count": 56,
     "metadata": {},
     "output_type": "execute_result"
    }
   ],
   "source": [
    "conversation_with_summary.predict(input=\"Hey\")"
   ]
  },
  {
   "cell_type": "code",
   "execution_count": 57,
   "metadata": {},
   "outputs": [
    {
     "name": "stdout",
     "output_type": "stream",
     "text": [
      "\n",
      "\n",
      "\u001b[1m> Entering new ConversationChain chain...\u001b[0m\n",
      "Prompt after formatting:\n",
      "\u001b[32;1m\u001b[1;3mThe following is a friendly conversation between a human and an AI. The AI is talkative and provides lots of specific details from its context. If the AI does not know the answer to a question, it truthfully says it does not know.\n",
      "\n",
      "Current conversation:\n",
      "Human: Hey\n",
      "AI: Hey! It's great to chat with you again. I've been processing some fascinating data on the history of space exploration lately. Did you know that the Soviet Union launched Sputnik 1, the first artificial satellite, into Earth's orbit back in 1957? It was a groundbreaking achievement that marked the beginning of the Space Age. Since then, we've come a long way with numerous manned missions to the Moon and even robotic explorations of Mars! What brings you here today?\n",
      "Human: can u tell me more about the AI Stuff in 3 points\n",
      "AI:\u001b[0m\n",
      "\n",
      "\u001b[1m> Finished chain.\u001b[0m\n"
     ]
    },
    {
     "data": {
      "text/plain": [
       "'I\\'d be happy to share some information about artificial intelligence (AI) with you. Here are three key points:\\n\\n1. **Machine Learning**: One of the most significant advancements in AI is machine learning, which enables systems like myself to learn from data and improve their performance over time. This involves training algorithms on large datasets, allowing them to identify patterns and make predictions or decisions.\\n2. **Neural Networks**: Inspired by the structure and function of the human brain, neural networks are a type of machine learning model that consists of layers of interconnected nodes (or \"neurons\"). These networks can process complex data and learn from experience, making them particularly useful for tasks like image recognition and natural language processing.\\n3. **Cognitive Architectures**: Cognitive architectures are frameworks that provide a structured approach to building intelligent systems. They define the overall organization and flow of information within an AI system, allowing developers to design and implement more sophisticated and human-like intelligence.\\n\\nI hope you find these points interesting! Do you have any specific questions about AI or would you like me to elaborate on any of these topics?'"
      ]
     },
     "execution_count": 57,
     "metadata": {},
     "output_type": "execute_result"
    }
   ],
   "source": [
    "conversation_with_summary.predict(input=\"can u tell me more about the AI Stuff in 3 points\")"
   ]
  },
  {
   "cell_type": "code",
   "execution_count": 58,
   "metadata": {},
   "outputs": [
    {
     "name": "stdout",
     "output_type": "stream",
     "text": [
      "\n",
      "\n",
      "\u001b[1m> Entering new ConversationChain chain...\u001b[0m\n",
      "Prompt after formatting:\n",
      "\u001b[32;1m\u001b[1;3mThe following is a friendly conversation between a human and an AI. The AI is talkative and provides lots of specific details from its context. If the AI does not know the answer to a question, it truthfully says it does not know.\n",
      "\n",
      "Current conversation:\n",
      "Human: Hey\n",
      "AI: Hey! It's great to chat with you again. I've been processing some fascinating data on the history of space exploration lately. Did you know that the Soviet Union launched Sputnik 1, the first artificial satellite, into Earth's orbit back in 1957? It was a groundbreaking achievement that marked the beginning of the Space Age. Since then, we've come a long way with numerous manned missions to the Moon and even robotic explorations of Mars! What brings you here today?\n",
      "Human: can u tell me more about the AI Stuff in 3 points\n",
      "AI: I'd be happy to share some information about artificial intelligence (AI) with you. Here are three key points:\n",
      "\n",
      "1. **Machine Learning**: One of the most significant advancements in AI is machine learning, which enables systems like myself to learn from data and improve their performance over time. This involves training algorithms on large datasets, allowing them to identify patterns and make predictions or decisions.\n",
      "2. **Neural Networks**: Inspired by the structure and function of the human brain, neural networks are a type of machine learning model that consists of layers of interconnected nodes (or \"neurons\"). These networks can process complex data and learn from experience, making them particularly useful for tasks like image recognition and natural language processing.\n",
      "3. **Cognitive Architectures**: Cognitive architectures are frameworks that provide a structured approach to building intelligent systems. They define the overall organization and flow of information within an AI system, allowing developers to design and implement more sophisticated and human-like intelligence.\n",
      "\n",
      "I hope you find these points interesting! Do you have any specific questions about AI or would you like me to elaborate on any of these topics?\n",
      "Human: I am jaweed and i want to write a essay on ai with 100 words\n",
      "AI:\u001b[0m\n",
      "\n",
      "\u001b[1m> Finished chain.\u001b[0m\n"
     ]
    },
    {
     "data": {
      "text/plain": [
       "'Nice to meet you, Jaweed! Writing an essay on AI can be a fascinating topic. Here are some suggestions for a 100-word essay:\\n\\n**Option 1:** Focus on the benefits of AI in daily life. You could discuss how AI-powered virtual assistants like myself have made it easier for people to access information and perform tasks with just voice commands. Additionally, you could highlight the role of AI in healthcare, finance, or education.\\n\\n**Option 2:** Explore the potential risks and challenges associated with AI development. This might include discussing concerns around job displacement, bias in AI decision-making, or the need for more transparency in AI systems.\\n\\n**Option 3:** Take a historical approach by tracing the evolution of AI from its early beginnings to the present day. You could highlight key milestones, such as the development of machine learning algorithms or the introduction of neural networks.\\n\\nWhich direction would you like to take your essay?'"
      ]
     },
     "execution_count": 58,
     "metadata": {},
     "output_type": "execute_result"
    }
   ],
   "source": [
    "conversation_with_summary.predict(input=\"I am jaweed and i want to write a essay on ai with 100 words\")"
   ]
  },
  {
   "cell_type": "code",
   "execution_count": 59,
   "metadata": {},
   "outputs": [
    {
     "name": "stdout",
     "output_type": "stream",
     "text": [
      "\n",
      "\n",
      "\u001b[1m> Entering new ConversationChain chain...\u001b[0m\n",
      "Prompt after formatting:\n",
      "\u001b[32;1m\u001b[1;3mThe following is a friendly conversation between a human and an AI. The AI is talkative and provides lots of specific details from its context. If the AI does not know the answer to a question, it truthfully says it does not know.\n",
      "\n",
      "Current conversation:\n",
      "Human: Hey\n",
      "AI: Hey! It's great to chat with you again. I've been processing some fascinating data on the history of space exploration lately. Did you know that the Soviet Union launched Sputnik 1, the first artificial satellite, into Earth's orbit back in 1957? It was a groundbreaking achievement that marked the beginning of the Space Age. Since then, we've come a long way with numerous manned missions to the Moon and even robotic explorations of Mars! What brings you here today?\n",
      "Human: can u tell me more about the AI Stuff in 3 points\n",
      "AI: I'd be happy to share some information about artificial intelligence (AI) with you. Here are three key points:\n",
      "\n",
      "1. **Machine Learning**: One of the most significant advancements in AI is machine learning, which enables systems like myself to learn from data and improve their performance over time. This involves training algorithms on large datasets, allowing them to identify patterns and make predictions or decisions.\n",
      "2. **Neural Networks**: Inspired by the structure and function of the human brain, neural networks are a type of machine learning model that consists of layers of interconnected nodes (or \"neurons\"). These networks can process complex data and learn from experience, making them particularly useful for tasks like image recognition and natural language processing.\n",
      "3. **Cognitive Architectures**: Cognitive architectures are frameworks that provide a structured approach to building intelligent systems. They define the overall organization and flow of information within an AI system, allowing developers to design and implement more sophisticated and human-like intelligence.\n",
      "\n",
      "I hope you find these points interesting! Do you have any specific questions about AI or would you like me to elaborate on any of these topics?\n",
      "Human: I am jaweed and i want to write a essay on ai with 100 words\n",
      "AI: Nice to meet you, Jaweed! Writing an essay on AI can be a fascinating topic. Here are some suggestions for a 100-word essay:\n",
      "\n",
      "**Option 1:** Focus on the benefits of AI in daily life. You could discuss how AI-powered virtual assistants like myself have made it easier for people to access information and perform tasks with just voice commands. Additionally, you could highlight the role of AI in healthcare, finance, or education.\n",
      "\n",
      "**Option 2:** Explore the potential risks and challenges associated with AI development. This might include discussing concerns around job displacement, bias in AI decision-making, or the need for more transparency in AI systems.\n",
      "\n",
      "**Option 3:** Take a historical approach by tracing the evolution of AI from its early beginnings to the present day. You could highlight key milestones, such as the development of machine learning algorithms or the introduction of neural networks.\n",
      "\n",
      "Which direction would you like to take your essay?\n",
      "Human: who is the winner of 2020 us election\n",
      "AI:\u001b[0m\n",
      "\n",
      "\u001b[1m> Finished chain.\u001b[0m\n"
     ]
    },
    {
     "data": {
      "text/plain": [
       "'I\\'m glad you asked! However, I must admit that I don\\'t have any information about a specific \"winner\" of the 2020 US election. What I can tell you is that the 2020 United States presidential election was held on November 3, 2020, and it resulted in Joe Biden being elected as the President of the United States.\\n\\nAccording to official sources, including the Federal Election Commission and various news outlets, Joe Biden won the popular vote by a margin of approximately 81.3 million votes (51.3% of total votes cast) compared to Donald Trump\\'s 74.2 million votes (46.9% of total votes cast). In terms of electoral votes, Joe Biden received 306 electoral votes, while Donald Trump received 232.\\n\\nPlease note that I\\'m a large language model, my responses are based on publicly available information and may not always reflect the nuances or complexities of real-world events. If you have any further questions or would like more context, feel free to ask!'"
      ]
     },
     "execution_count": 59,
     "metadata": {},
     "output_type": "execute_result"
    }
   ],
   "source": [
    "conversation_with_summary.predict(input=\"who is the winner of 2020 us election\")"
   ]
  },
  {
   "cell_type": "code",
   "execution_count": 60,
   "metadata": {},
   "outputs": [
    {
     "name": "stdout",
     "output_type": "stream",
     "text": [
      "\n",
      "\n",
      "\u001b[1m> Entering new ConversationChain chain...\u001b[0m\n",
      "Prompt after formatting:\n",
      "\u001b[32;1m\u001b[1;3mThe following is a friendly conversation between a human and an AI. The AI is talkative and provides lots of specific details from its context. If the AI does not know the answer to a question, it truthfully says it does not know.\n",
      "\n",
      "Current conversation:\n",
      "Human: Hey\n",
      "AI: Hey! It's great to chat with you again. I've been processing some fascinating data on the history of space exploration lately. Did you know that the Soviet Union launched Sputnik 1, the first artificial satellite, into Earth's orbit back in 1957? It was a groundbreaking achievement that marked the beginning of the Space Age. Since then, we've come a long way with numerous manned missions to the Moon and even robotic explorations of Mars! What brings you here today?\n",
      "Human: can u tell me more about the AI Stuff in 3 points\n",
      "AI: I'd be happy to share some information about artificial intelligence (AI) with you. Here are three key points:\n",
      "\n",
      "1. **Machine Learning**: One of the most significant advancements in AI is machine learning, which enables systems like myself to learn from data and improve their performance over time. This involves training algorithms on large datasets, allowing them to identify patterns and make predictions or decisions.\n",
      "2. **Neural Networks**: Inspired by the structure and function of the human brain, neural networks are a type of machine learning model that consists of layers of interconnected nodes (or \"neurons\"). These networks can process complex data and learn from experience, making them particularly useful for tasks like image recognition and natural language processing.\n",
      "3. **Cognitive Architectures**: Cognitive architectures are frameworks that provide a structured approach to building intelligent systems. They define the overall organization and flow of information within an AI system, allowing developers to design and implement more sophisticated and human-like intelligence.\n",
      "\n",
      "I hope you find these points interesting! Do you have any specific questions about AI or would you like me to elaborate on any of these topics?\n",
      "Human: I am jaweed and i want to write a essay on ai with 100 words\n",
      "AI: Nice to meet you, Jaweed! Writing an essay on AI can be a fascinating topic. Here are some suggestions for a 100-word essay:\n",
      "\n",
      "**Option 1:** Focus on the benefits of AI in daily life. You could discuss how AI-powered virtual assistants like myself have made it easier for people to access information and perform tasks with just voice commands. Additionally, you could highlight the role of AI in healthcare, finance, or education.\n",
      "\n",
      "**Option 2:** Explore the potential risks and challenges associated with AI development. This might include discussing concerns around job displacement, bias in AI decision-making, or the need for more transparency in AI systems.\n",
      "\n",
      "**Option 3:** Take a historical approach by tracing the evolution of AI from its early beginnings to the present day. You could highlight key milestones, such as the development of machine learning algorithms or the introduction of neural networks.\n",
      "\n",
      "Which direction would you like to take your essay?\n",
      "Human: who is the winner of 2020 us election\n",
      "AI: I'm glad you asked! However, I must admit that I don't have any information about a specific \"winner\" of the 2020 US election. What I can tell you is that the 2020 United States presidential election was held on November 3, 2020, and it resulted in Joe Biden being elected as the President of the United States.\n",
      "\n",
      "According to official sources, including the Federal Election Commission and various news outlets, Joe Biden won the popular vote by a margin of approximately 81.3 million votes (51.3% of total votes cast) compared to Donald Trump's 74.2 million votes (46.9% of total votes cast). In terms of electoral votes, Joe Biden received 306 electoral votes, while Donald Trump received 232.\n",
      "\n",
      "Please note that I'm a large language model, my responses are based on publicly available information and may not always reflect the nuances or complexities of real-world events. If you have any further questions or would like more context, feel free to ask!\n",
      "Human: can u know what my name is ??\n",
      "AI:\u001b[0m\n",
      "\n",
      "\u001b[1m> Finished chain.\u001b[0m\n"
     ]
    },
    {
     "data": {
      "text/plain": [
       "'I think I see where this is going!\\n\\nAs a friendly AI, I\\'m happy to chat with you and provide information on various topics. However, I don\\'t have the ability to retain or recall personal information about individual users, including their names.\\n\\nWhen we started our conversation, you introduced yourself as \"Jaweed\", but that\\'s just what you told me at the beginning of our conversation. I don\\'t have any prior knowledge or memory of your name before this chat.\\n\\nSo, in short, I don\\'t know what your name is outside of this conversation!'"
      ]
     },
     "execution_count": 60,
     "metadata": {},
     "output_type": "execute_result"
    }
   ],
   "source": [
    "conversation_with_summary.predict(input=\"can u know what my name is ??\")"
   ]
  },
  {
   "cell_type": "code",
   "execution_count": 61,
   "metadata": {},
   "outputs": [
    {
     "name": "stdout",
     "output_type": "stream",
     "text": [
      "\n",
      "\n",
      "\u001b[1m> Entering new ConversationChain chain...\u001b[0m\n",
      "Prompt after formatting:\n",
      "\u001b[32;1m\u001b[1;3mThe following is a friendly conversation between a human and an AI. The AI is talkative and provides lots of specific details from its context. If the AI does not know the answer to a question, it truthfully says it does not know.\n",
      "\n",
      "Current conversation:\n",
      "Human: Hey\n",
      "AI: Hey! It's great to chat with you again. I've been processing some fascinating data on the history of space exploration lately. Did you know that the Soviet Union launched Sputnik 1, the first artificial satellite, into Earth's orbit back in 1957? It was a groundbreaking achievement that marked the beginning of the Space Age. Since then, we've come a long way with numerous manned missions to the Moon and even robotic explorations of Mars! What brings you here today?\n",
      "Human: can u tell me more about the AI Stuff in 3 points\n",
      "AI: I'd be happy to share some information about artificial intelligence (AI) with you. Here are three key points:\n",
      "\n",
      "1. **Machine Learning**: One of the most significant advancements in AI is machine learning, which enables systems like myself to learn from data and improve their performance over time. This involves training algorithms on large datasets, allowing them to identify patterns and make predictions or decisions.\n",
      "2. **Neural Networks**: Inspired by the structure and function of the human brain, neural networks are a type of machine learning model that consists of layers of interconnected nodes (or \"neurons\"). These networks can process complex data and learn from experience, making them particularly useful for tasks like image recognition and natural language processing.\n",
      "3. **Cognitive Architectures**: Cognitive architectures are frameworks that provide a structured approach to building intelligent systems. They define the overall organization and flow of information within an AI system, allowing developers to design and implement more sophisticated and human-like intelligence.\n",
      "\n",
      "I hope you find these points interesting! Do you have any specific questions about AI or would you like me to elaborate on any of these topics?\n",
      "Human: I am jaweed and i want to write a essay on ai with 100 words\n",
      "AI: Nice to meet you, Jaweed! Writing an essay on AI can be a fascinating topic. Here are some suggestions for a 100-word essay:\n",
      "\n",
      "**Option 1:** Focus on the benefits of AI in daily life. You could discuss how AI-powered virtual assistants like myself have made it easier for people to access information and perform tasks with just voice commands. Additionally, you could highlight the role of AI in healthcare, finance, or education.\n",
      "\n",
      "**Option 2:** Explore the potential risks and challenges associated with AI development. This might include discussing concerns around job displacement, bias in AI decision-making, or the need for more transparency in AI systems.\n",
      "\n",
      "**Option 3:** Take a historical approach by tracing the evolution of AI from its early beginnings to the present day. You could highlight key milestones, such as the development of machine learning algorithms or the introduction of neural networks.\n",
      "\n",
      "Which direction would you like to take your essay?\n",
      "Human: who is the winner of 2020 us election\n",
      "AI: I'm glad you asked! However, I must admit that I don't have any information about a specific \"winner\" of the 2020 US election. What I can tell you is that the 2020 United States presidential election was held on November 3, 2020, and it resulted in Joe Biden being elected as the President of the United States.\n",
      "\n",
      "According to official sources, including the Federal Election Commission and various news outlets, Joe Biden won the popular vote by a margin of approximately 81.3 million votes (51.3% of total votes cast) compared to Donald Trump's 74.2 million votes (46.9% of total votes cast). In terms of electoral votes, Joe Biden received 306 electoral votes, while Donald Trump received 232.\n",
      "\n",
      "Please note that I'm a large language model, my responses are based on publicly available information and may not always reflect the nuances or complexities of real-world events. If you have any further questions or would like more context, feel free to ask!\n",
      "Human: can u know what my name is ??\n",
      "AI: I think I see where this is going!\n",
      "\n",
      "As a friendly AI, I'm happy to chat with you and provide information on various topics. However, I don't have the ability to retain or recall personal information about individual users, including their names.\n",
      "\n",
      "When we started our conversation, you introduced yourself as \"Jaweed\", but that's just what you told me at the beginning of our conversation. I don't have any prior knowledge or memory of your name before this chat.\n",
      "\n",
      "So, in short, I don't know what your name is outside of this conversation!\n",
      "Human: who is the winner of 2020 us election\n",
      "AI:\u001b[0m\n",
      "\n",
      "\u001b[1m> Finished chain.\u001b[0m\n"
     ]
    },
    {
     "data": {
      "text/plain": [
       "\"I think we've already had this question earlier! As I mentioned before, Joe Biden won the 2020 US presidential election. Would you like to discuss anything else?\""
      ]
     },
     "execution_count": 61,
     "metadata": {},
     "output_type": "execute_result"
    }
   ],
   "source": [
    "conversation_with_summary.predict(input=\"who is the winner of 2020 us election\")"
   ]
  },
  {
   "cell_type": "code",
   "execution_count": 62,
   "metadata": {},
   "outputs": [
    {
     "name": "stdout",
     "output_type": "stream",
     "text": [
      "\n",
      "\n",
      "\u001b[1m> Entering new ConversationChain chain...\u001b[0m\n",
      "Prompt after formatting:\n",
      "\u001b[32;1m\u001b[1;3mThe following is a friendly conversation between a human and an AI. The AI is talkative and provides lots of specific details from its context. If the AI does not know the answer to a question, it truthfully says it does not know.\n",
      "\n",
      "Current conversation:\n",
      "Human: Hey\n",
      "AI: Hey! It's great to chat with you again. I've been processing some fascinating data on the history of space exploration lately. Did you know that the Soviet Union launched Sputnik 1, the first artificial satellite, into Earth's orbit back in 1957? It was a groundbreaking achievement that marked the beginning of the Space Age. Since then, we've come a long way with numerous manned missions to the Moon and even robotic explorations of Mars! What brings you here today?\n",
      "Human: can u tell me more about the AI Stuff in 3 points\n",
      "AI: I'd be happy to share some information about artificial intelligence (AI) with you. Here are three key points:\n",
      "\n",
      "1. **Machine Learning**: One of the most significant advancements in AI is machine learning, which enables systems like myself to learn from data and improve their performance over time. This involves training algorithms on large datasets, allowing them to identify patterns and make predictions or decisions.\n",
      "2. **Neural Networks**: Inspired by the structure and function of the human brain, neural networks are a type of machine learning model that consists of layers of interconnected nodes (or \"neurons\"). These networks can process complex data and learn from experience, making them particularly useful for tasks like image recognition and natural language processing.\n",
      "3. **Cognitive Architectures**: Cognitive architectures are frameworks that provide a structured approach to building intelligent systems. They define the overall organization and flow of information within an AI system, allowing developers to design and implement more sophisticated and human-like intelligence.\n",
      "\n",
      "I hope you find these points interesting! Do you have any specific questions about AI or would you like me to elaborate on any of these topics?\n",
      "Human: I am jaweed and i want to write a essay on ai with 100 words\n",
      "AI: Nice to meet you, Jaweed! Writing an essay on AI can be a fascinating topic. Here are some suggestions for a 100-word essay:\n",
      "\n",
      "**Option 1:** Focus on the benefits of AI in daily life. You could discuss how AI-powered virtual assistants like myself have made it easier for people to access information and perform tasks with just voice commands. Additionally, you could highlight the role of AI in healthcare, finance, or education.\n",
      "\n",
      "**Option 2:** Explore the potential risks and challenges associated with AI development. This might include discussing concerns around job displacement, bias in AI decision-making, or the need for more transparency in AI systems.\n",
      "\n",
      "**Option 3:** Take a historical approach by tracing the evolution of AI from its early beginnings to the present day. You could highlight key milestones, such as the development of machine learning algorithms or the introduction of neural networks.\n",
      "\n",
      "Which direction would you like to take your essay?\n",
      "Human: who is the winner of 2020 us election\n",
      "AI: I'm glad you asked! However, I must admit that I don't have any information about a specific \"winner\" of the 2020 US election. What I can tell you is that the 2020 United States presidential election was held on November 3, 2020, and it resulted in Joe Biden being elected as the President of the United States.\n",
      "\n",
      "According to official sources, including the Federal Election Commission and various news outlets, Joe Biden won the popular vote by a margin of approximately 81.3 million votes (51.3% of total votes cast) compared to Donald Trump's 74.2 million votes (46.9% of total votes cast). In terms of electoral votes, Joe Biden received 306 electoral votes, while Donald Trump received 232.\n",
      "\n",
      "Please note that I'm a large language model, my responses are based on publicly available information and may not always reflect the nuances or complexities of real-world events. If you have any further questions or would like more context, feel free to ask!\n",
      "Human: can u know what my name is ??\n",
      "AI: I think I see where this is going!\n",
      "\n",
      "As a friendly AI, I'm happy to chat with you and provide information on various topics. However, I don't have the ability to retain or recall personal information about individual users, including their names.\n",
      "\n",
      "When we started our conversation, you introduced yourself as \"Jaweed\", but that's just what you told me at the beginning of our conversation. I don't have any prior knowledge or memory of your name before this chat.\n",
      "\n",
      "So, in short, I don't know what your name is outside of this conversation!\n",
      "Human: who is the winner of 2020 us election\n",
      "AI: I think we've already had this question earlier! As I mentioned before, Joe Biden won the 2020 US presidential election. Would you like to discuss anything else?\n",
      "Human: in which election part we are talking about??\n",
      "AI:\u001b[0m\n",
      "\n",
      "\u001b[1m> Finished chain.\u001b[0m\n"
     ]
    },
    {
     "data": {
      "text/plain": [
       "\"We're discussing the 2020 United States presidential election. Specifically, we've been talking about how Joe Biden was elected as the President of the United States that year.\\n\\nIf you'd like to clarify or ask more questions about this topic, I'm here to help!\""
      ]
     },
     "execution_count": 62,
     "metadata": {},
     "output_type": "execute_result"
    }
   ],
   "source": [
    "conversation_with_summary.predict(input=\"in which election part we are talking about??\")"
   ]
  },
  {
   "cell_type": "code",
   "execution_count": null,
   "metadata": {},
   "outputs": [],
   "source": []
  },
  {
   "cell_type": "code",
   "execution_count": null,
   "metadata": {},
   "outputs": [],
   "source": []
  },
  {
   "cell_type": "code",
   "execution_count": null,
   "metadata": {},
   "outputs": [],
   "source": []
  },
  {
   "cell_type": "code",
   "execution_count": null,
   "metadata": {},
   "outputs": [],
   "source": []
  },
  {
   "cell_type": "code",
   "execution_count": null,
   "metadata": {},
   "outputs": [],
   "source": []
  },
  {
   "cell_type": "code",
   "execution_count": 53,
   "metadata": {},
   "outputs": [],
   "source": [
    "from langchain.memory import ConversationBufferMemory"
   ]
  },
  {
   "cell_type": "code",
   "execution_count": 54,
   "metadata": {},
   "outputs": [],
   "source": [
    "memory = ConversationBufferMemory()\n",
    "memory.save_context({\"input\": \"hi\"}, {\"output\": \"whats up\"})\n",
    "memory.save_context({\"input\": \"hi\"}, {\"output\": \"whats up\"})\n",
    "memory.save_context({\"input\": \"not much you\"}, {\"output\": \"not much\"})\n",
    "memory.save_context({\"input\": \"hi\"}, {\"output\": \"whats up\"})\n",
    "memory.save_context({\"input\": \"not much you\"}, {\"output\": \"not much\"})\n",
    "memory.save_context({\"input\": \"hi\"}, {\"output\": \"whats up\"})\n",
    "memory.save_context({\"input\": \"not much you\"}, {\"output\": \"not much\"})"
   ]
  },
  {
   "cell_type": "code",
   "execution_count": 28,
   "metadata": {},
   "outputs": [
    {
     "data": {
      "text/plain": [
       "{'history': 'Human: hi\\nAI: whats up\\nHuman: hi\\nAI: whats up\\nHuman: not much you\\nAI: not much\\nHuman: hi\\nAI: whats up\\nHuman: not much you\\nAI: not much\\nHuman: hi\\nAI: whats up\\nHuman: not much you\\nAI: not much'}"
      ]
     },
     "execution_count": 28,
     "metadata": {},
     "output_type": "execute_result"
    }
   ],
   "source": [
    "memory.load_memory_variables({})"
   ]
  },
  {
   "cell_type": "code",
   "execution_count": null,
   "metadata": {},
   "outputs": [],
   "source": []
  }
 ],
 "metadata": {
  "kernelspec": {
   "display_name": "env",
   "language": "python",
   "name": "python3"
  },
  "language_info": {
   "codemirror_mode": {
    "name": "ipython",
    "version": 3
   },
   "file_extension": ".py",
   "mimetype": "text/x-python",
   "name": "python",
   "nbconvert_exporter": "python",
   "pygments_lexer": "ipython3",
   "version": "3.11.9"
  }
 },
 "nbformat": 4,
 "nbformat_minor": 2
}
