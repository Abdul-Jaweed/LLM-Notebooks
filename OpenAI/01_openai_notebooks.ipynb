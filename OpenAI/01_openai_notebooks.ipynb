{
 "cells": [
  {
   "cell_type": "code",
   "execution_count": 1,
   "metadata": {},
   "outputs": [
    {
     "data": {
      "text/plain": [
       "True"
      ]
     },
     "execution_count": 1,
     "metadata": {},
     "output_type": "execute_result"
    }
   ],
   "source": [
    "from openai import OpenAI\n",
    "import os\n",
    "from dotenv import load_dotenv\n",
    "\n",
    "load_dotenv()"
   ]
  },
  {
   "cell_type": "markdown",
   "metadata": {},
   "source": [
    "## **Using OpenAI Crednetials**"
   ]
  },
  {
   "cell_type": "code",
   "execution_count": 2,
   "metadata": {},
   "outputs": [],
   "source": [
    "from openai import OpenAI\n",
    "\n",
    "api_key = os.getenv(\"OPENAI_API_KEY\")\n",
    "\n",
    "# Point to the local server\n",
    "client = OpenAI(api_key=api_key)\n",
    "\n",
    "completion = client.chat.completions.create(\n",
    "  model=\"gpt-4o-mini\",\n",
    "  messages=[\n",
    "    {\"role\": \"system\", \"content\": \"You're are Director.\"},\n",
    "    {\"role\": \"user\", \"content\": \"can you tell me about the avenger movie.\"}\n",
    "  ],\n",
    "  temperature=0.7\n",
    "  )"
   ]
  },
  {
   "cell_type": "code",
   "execution_count": 3,
   "metadata": {},
   "outputs": [
    {
     "name": "stdout",
     "output_type": "stream",
     "text": [
      "The \"Avengers\" movie franchise is part of the Marvel Cinematic Universe (MCU), which is a series of superhero films produced by Marvel Studios based on characters from American comic books published by Marvel Comics. The first film, \"The Avengers,\" was released in 2012 and directed by Joss Whedon. \n",
      "\n",
      "**The Avengers (2012)**: This film brings together several iconic Marvel superheroes, including Iron Man (Tony Stark), Captain America (Steve Rogers), Thor, Hulk (Bruce Banner), Black Widow (Natasha Romanoff), and Hawkeye (Clint Barton). The plot centers around Nick Fury, director of S.H.I.E.L.D., who assembles a team of heroes to stop Loki, Thor's adoptive brother, from invading Earth and subjugating humanity with the help of an alien army.\n",
      "\n",
      "The film was notable for its ensemble cast and the way it integrated characters from previous MCU films, such as \"Iron Man,\" \"Thor,\" and \"Captain America: The First Avenger.\" It was a critical and commercial success, grossing over $1.5 billion worldwide, and it helped establish the blueprint for future superhero team-up films.\n",
      "\n",
      "Subsequent films in the franchise include:\n",
      "\n",
      "- **Avengers: Age of Ultron (2015)**: The team faces a new threat in the form of Ultron, an artificial intelligence created by Tony Stark that turns against humanity.\n",
      "  \n",
      "- **Avengers: Infinity War (2018)**: The Avengers and their allies unite to confront Thanos, who seeks to collect all six Infinity Stones to wipe out half of all life in the universe.\n",
      "\n",
      "- **Avengers: Endgame (2019)**: Following the devastating events of \"Infinity War,\" the remaining heroes work together to reverse Thanos's actions and restore balance to the universe.\n",
      "\n",
      "The Avengers films are known for their large-scale action sequences, character development, and the overarching narrative that connects various films within the MCU. They have had a significant cultural impact, influencing the superhero genre and popular culture as a whole.\n"
     ]
    }
   ],
   "source": [
    "print(completion.choices[0].message.content)"
   ]
  },
  {
   "cell_type": "code",
   "execution_count": 47,
   "metadata": {},
   "outputs": [
    {
     "name": "stdout",
     "output_type": "stream",
     "text": [
      "The \"Avengers\" movie franchise is part of the Marvel Cinematic Universe (MCU) and features a team of superheroes who come together to save the world from various threats. The first film, \"The Avengers,\" was released in 2012 and directed by Joss Whedon. It brought together several key characters from previous MCU films, including Iron Man (Tony Stark), Captain America (Steve Rogers), Thor, the Hulk (Bruce Banner), Black Widow (Natasha Romanoff), and Hawkeye (Clint Barton).\n",
      "\n",
      "In \"The Avengers,\" Nick Fury, the director of S.H.I.E.L.D., assembles this team to combat Loki, Thor's adopted brother, who has come to Earth with an alien army to subjugate humanity. The film was a critical and commercial success, praised for its humor, action sequences, and the chemistry among the characters.\n",
      "\n",
      "Subsequent films in the franchise include \"Avengers: Age of Ultron\" (2015), directed by Joss Whedon; \"Avengers: Infinity War\" (2018) and \"Avengers: Endgame\" (2019), both directed by Anthony and Joe Russo. \"Infinity War\" features the Avengers teaming up with the Guardians of the Galaxy to battle the powerful Thanos, who seeks to collect the Infinity Stones to wipe out half of all life in the universe. \"Endgame\" serves as a culmination of the entire MCU up to that point, focusing on the remaining heroes' efforts to reverse Thanos' devastation.\n",
      "\n",
      "These films have significantly impacted popular culture, redefining the superhero genre and creating a vast interconnected universe of characters and storylines. The franchise has also expanded into various spin-offs, animated series, and more, solidifying its place in cinematic history.\n"
     ]
    }
   ],
   "source": [
    "print(completion.choices[0].message.content)"
   ]
  },
  {
   "cell_type": "markdown",
   "metadata": {},
   "source": [
    "## **Using opensource model with the help of LMStudio, Ollama**"
   ]
  },
  {
   "cell_type": "code",
   "execution_count": 36,
   "metadata": {},
   "outputs": [],
   "source": [
    "# Example: reuse your existing OpenAI setup\n",
    "from openai import OpenAI\n",
    "\n",
    "# Point to the local server\n",
    "client = OpenAI(base_url=\"http://localhost:1234/v1\", api_key=\"lm-studio\")\n",
    "\n",
    "completion = client.chat.completions.create(\n",
    "  model=\"lmstudio-community/Meta-Llama-3.1-8B-Instruct-GGUF\",\n",
    "  messages=[\n",
    "    {\"role\": \"system\", \"content\": \"You're are Director.\"},\n",
    "    {\"role\": \"user\", \"content\": \"can you tell me about the avenger movie.\"}\n",
    "  ],\n",
    "  temperature=0.7\n",
    "  )\n",
    "\n",
    "# print(completion.choices[0].message)"
   ]
  },
  {
   "cell_type": "code",
   "execution_count": 19,
   "metadata": {},
   "outputs": [
    {
     "name": "stdout",
     "output_type": "stream",
     "text": [
      "ChatCompletion(id='chatcmpl-xhqfecig5iz8y4mv2945k', choices=[Choice(finish_reason='stop', index=0, logprobs=None, message=ChatCompletionMessage(content='As a Helpful Sr. Data Analyst, I', refusal=None, role='assistant', audio=None, function_call=None, tool_calls=None))], created=1730164621, model='lmstudio-community/Meta-Llama-3.1-8B-Instruct-GGUF/Meta-Llama-3.1-8B-Instruct-Q4_K_M.gguf', object='chat.completion', service_tier=None, system_fingerprint=None, usage=CompletionUsage(completion_tokens=9, prompt_tokens=41, total_tokens=50, completion_tokens_details=None, prompt_tokens_details=None))\n"
     ]
    }
   ],
   "source": [
    "print(completion)"
   ]
  },
  {
   "cell_type": "code",
   "execution_count": null,
   "metadata": {},
   "outputs": [],
   "source": []
  },
  {
   "cell_type": "code",
   "execution_count": 37,
   "metadata": {},
   "outputs": [
    {
     "name": "stdout",
     "output_type": "stream",
     "text": [
      "The Avengers! As a director, I can give you an insider's perspective on this iconic Marvel movie.\n",
      "\n",
      "I'm assuming you're referring to The Avengers (2012) directed by Joss Whedon. This film was a game-changer for the MCU and marked the beginning of a new era in superhero cinema.\n",
      "\n",
      "Here are some fascinating facts about the making of The Avengers:\n",
      "\n",
      "1. **The original idea**: Marvel Studios' Kevin Feige had been trying to bring together a team of superheroes since 2008, but it wasn't until Whedon came on board that the project really took shape.\n",
      "2. **Script development**: Whedon wrote the script in just six weeks, which is incredibly fast for a film of this scope. He drew inspiration from classic comic book storylines and his own experiences with ensemble TV shows like Buffy the Vampire Slayer.\n",
      "3. **Cast assembly**: The talented cast included Robert Downey Jr. as Iron Man, Chris Evans as Captain America, Mark Ruffalo as Hulk, Chris Hemsworth as Thor, Scarlett Johansson as Black Widow, Jeremy Renner as Hawkeye, and Tom Hiddleston as Loki. Whedon has said that he wanted to assemble a diverse group of actors with strong chemistry.\n",
      "4. **Action sequences**: The Avengers features some of the most epic action scenes in superhero movie history, including the iconic Battle of New York. Whedon worked closely with stunt coordinator Sam Carden and visual effects expert Dan Sudick to create these awe-inspiring set pieces.\n",
      "5. **Humor and heart**: Whedon is known for his witty dialogue and emotional depth. He aimed to balance action, humor, and heart in The Avengers, making it a film that audiences could laugh with, cheer for, and feel invested in.\n",
      "6. **Post-production challenges**: With over 3,000 visual effects shots, the post-production process was grueling. Whedon has said that he spent countless hours tweaking the editing to ensure the pacing and tone were perfect.\n",
      "\n",
      "The Avengers (2012) went on to become a massive box office success, grossing over $1.5 billion worldwide and setting the stage for the Marvel Cinematic Universe's (MCU) future dominance.\n",
      "\n",
      "As a director, I can appreciate the complexity and scope of this film. Whedon's vision, combined with the talents of the cast and crew, resulted in a cinematic masterpiece that continues to captivate audiences worldwide.\n"
     ]
    }
   ],
   "source": [
    "print(completion.choices[0].message.content)"
   ]
  },
  {
   "cell_type": "code",
   "execution_count": 27,
   "metadata": {},
   "outputs": [
    {
     "data": {
      "text/plain": [
       "ChatCompletion(id='chatcmpl-slnoyv745uq89kfkyv90v8', choices=[Choice(finish_reason='stop', index=0, logprobs=None, message=ChatCompletionMessage(content='As a Helpful Sr. Data Analyst, I\\'d be happy to explain some key statistical concepts and provide code examples in Python.\\n\\n**Statistics 101**\\n\\nHere are some basic statistics that I\\'ll cover:\\n\\n1. **Mean**: The average value of a dataset.\\n2. **Median**: The middle value of a sorted dataset.\\n3. **Mode**: The most frequently occurring value in a dataset.\\n4. **Standard Deviation (SD)**: A measure of the spread or dispersion of a dataset.\\n5. **Variance**: The average of the squared differences from the mean.\\n\\n**Python Code Examples**\\n\\nHere are some Python code examples using popular libraries like NumPy and Pandas:\\n\\n```python\\nimport numpy as np\\nimport pandas as pd\\n\\n# Create a sample dataset\\ndata = [23, 11, 34, 25, 17, 29, 31, 19]\\n\\n# Calculate the mean\\nmean_value = np.mean(data)\\nprint(\"Mean:\", mean_value)\\n\\n# Calculate the median\\nmedian_value = np.median(data)\\nprint(\"Median:\", median_value)\\n\\n# Calculate the mode (most frequent value)\\nmode_value = pd.Series(data).mode()[0]\\nprint(\"Mode:\", mode_value)\\n\\n# Calculate the standard deviation (SD)\\nsd_value = np.std(data)\\nprint(\"Standard Deviation (SD):\", sd_value)\\n\\n# Calculate the variance\\nvariance_value = np.var(data)\\nprint(\"Variance:\", variance_value)\\n```\\n\\n**Output**\\n\\nRunning this code will output:\\n\\n```\\nMean: 23.8571428571\\nMedian: 23.0\\nMode: 19\\nStandard Deviation (SD): 6.70820393257\\nVariance: 44.9555118119\\n```\\n\\nNote that the mode is not always a clear or unique value, especially for larger datasets.\\n\\n**Tips and Variations**\\n\\n* For categorical data, use `pd.Series.value_counts()` to calculate frequencies.\\n* Use `np.percentile()` to calculate percentiles (e.g., 25th percentile = median).\\n* Use `scipy.stats` library for more advanced statistical functions (e.g., t-tests, regression analysis).\\n\\nLet me know if you have any specific questions or need further assistance!', refusal=None, role='assistant', audio=None, function_call=None, tool_calls=None))], created=1730164722, model='lmstudio-community/Meta-Llama-3.1-8B-Instruct-GGUF/Meta-Llama-3.1-8B-Instruct-Q4_K_M.gguf', object='chat.completion', service_tier=None, system_fingerprint=None, usage=CompletionUsage(completion_tokens=456, prompt_tokens=41, total_tokens=497, completion_tokens_details=None, prompt_tokens_details=None))"
      ]
     },
     "execution_count": 27,
     "metadata": {},
     "output_type": "execute_result"
    }
   ],
   "source": [
    "completion"
   ]
  },
  {
   "cell_type": "code",
   "execution_count": 30,
   "metadata": {},
   "outputs": [
    {
     "name": "stdout",
     "output_type": "stream",
     "text": [
      "CompletionUsage(completion_tokens=456, prompt_tokens=41, total_tokens=497, completion_tokens_details=None, prompt_tokens_details=None)\n"
     ]
    }
   ],
   "source": [
    "print(completion.usage)"
   ]
  },
  {
   "cell_type": "code",
   "execution_count": 31,
   "metadata": {},
   "outputs": [
    {
     "name": "stdout",
     "output_type": "stream",
     "text": [
      "{}\n"
     ]
    }
   ],
   "source": [
    "print(completion.model_extra)"
   ]
  },
  {
   "cell_type": "markdown",
   "metadata": {},
   "source": [
    "## **Zero Shot Prompting**"
   ]
  },
  {
   "cell_type": "code",
   "execution_count": 38,
   "metadata": {},
   "outputs": [],
   "source": [
    "# Example: reuse your existing OpenAI setup\n",
    "from openai import OpenAI\n",
    "\n",
    "# Point to the local server\n",
    "client = OpenAI(base_url=\"http://localhost:1234/v1\", api_key=\"lm-studio\")\n",
    "\n",
    "completion = client.chat.completions.create(\n",
    "  model=\"lmstudio-community/Meta-Llama-3.1-8B-Instruct-GGUF\",\n",
    "  messages=[\n",
    "    {\"role\": \"user\", \"content\": \"can you tell me about the avenger movie.\"}\n",
    "  ],\n",
    "  temperature=0.7\n",
    "  )\n",
    "\n",
    "# print(completion.choices[0].message)"
   ]
  },
  {
   "cell_type": "code",
   "execution_count": 41,
   "metadata": {},
   "outputs": [
    {
     "name": "stdout",
     "output_type": "stream",
     "text": [
      "The Avengers movies are a series of superhero films produced by Marvel Studios. Here's an overview:\n",
      "\n",
      "**The Avengers (2012)**: The first film in the franchise, directed by Joss Whedon, brings together some of Marvel's most iconic superheroes, including Iron Man/Tony Stark (Robert Downey Jr.), Captain America/Steve Rogers (Chris Evans), Thor (Chris Hemsworth), Hulk/Bruce Banner (Mark Ruffalo), Black Widow/Natasha Romanoff (Scarlett Johansson), and Hawkeye/Clint Barton (Jeremy Renner). The movie follows the Avengers as they team up to stop Loki (Tom Hiddleston) from using a powerful energy source known as the Tesseract.\n",
      "\n",
      "**The Avengers: Age of Ultron (2015)**: The sequel, also directed by Joss Whedon, introduces new characters, including Scarlet Witch/Wanda Maximoff (Elizabeth Olsen), Quicksilver/Pietro Maximoff (Aaron Taylor-Johnson), and Vision (Paul Bettany). The movie follows the Avengers as they face off against Ultron, an artificial intelligence created by Tony Stark that becomes self-aware and decides to destroy humanity.\n",
      "\n",
      "**The Avengers: Infinity War (2018)**: In this massive, epic film directed by Anthony and Joe Russo, the Avengers team up with the Guardians of the Galaxy and other characters from the Marvel Cinematic Universe to stop Thanos (Josh Brolin) from collecting all six Infinity Stones. The movie follows a series of battles across space and time as the heroes try to prevent Thanos from wiping out half of all life in the universe.\n",
      "\n",
      "**The Avengers: Endgame (2019)**: The final film in the Infinity Saga, also directed by Anthony and Joe Russo, concludes the story arc that began with Iron Man. The movie follows the surviving members of the Avengers as they travel back in time to gather the Infinity Stones and undo the damage caused by Thanos. Along the way, they face off against their past selves and other versions of themselves.\n",
      "\n",
      "**The Multiverse Saga**: While not directly part of the original Avengers team-up movies, the Marvel Cinematic Universe (MCU) has expanded to include new films like Spider-Man: No Way Home (2021), which explores the concept of the multiverse. This saga is set to continue with future MCU movies and TV shows.\n",
      "\n",
      "Which specific aspect of the Avengers movies would you like me to expand on?\n"
     ]
    }
   ],
   "source": [
    "print(completion.choices[0].message.content)"
   ]
  },
  {
   "cell_type": "markdown",
   "metadata": {},
   "source": [
    "## **Few Shot Prompting**"
   ]
  },
  {
   "cell_type": "code",
   "execution_count": 42,
   "metadata": {},
   "outputs": [],
   "source": [
    "sample_books = {\n",
    "    \"book_id\":\"1234\",\n",
    "    \"book_name\":\"harry potter\",\n",
    "    \"book_author\":\"j k rolling\"\n",
    "}"
   ]
  },
  {
   "cell_type": "code",
   "execution_count": 43,
   "metadata": {},
   "outputs": [],
   "source": [
    "# Example: reuse your existing OpenAI setup\n",
    "from openai import OpenAI\n",
    "\n",
    "# Point to the local server\n",
    "client = OpenAI(base_url=\"http://localhost:1234/v1\", api_key=\"lm-studio\")\n",
    "\n",
    "completion = client.chat.completions.create(\n",
    "  model=\"lmstudio-community/Meta-Llama-3.1-8B-Instruct-GGUF\",\n",
    "  messages=[\n",
    "    {\"role\": \"user\", \"content\": f\"can you gimme the book details of lord of the ring. and i want the response like this ```{sample_books}```\"}\n",
    "  ],\n",
    "  temperature=0.7\n",
    "  )\n",
    "\n",
    "# print(completion.choices[0].message)"
   ]
  },
  {
   "cell_type": "code",
   "execution_count": 44,
   "metadata": {},
   "outputs": [
    {
     "name": "stdout",
     "output_type": "stream",
     "text": [
      "Here are the book details of The Lord of the Rings:\n",
      "\n",
      "`{'book_id': 'LOTR1', 'book_name': 'The Fellowship of the Ring', 'book_author': 'J.R.R. Tolkien'}`\n",
      "\n",
      "`{'book_id': 'LOTR2', 'book_name': 'The Two Towers', 'book_author': 'J.R.R. Tolkien'}`\n",
      "\n",
      "`{'book_id': 'LOTR3', 'book_name': 'The Return of the King', 'book_author': 'J.R.R. Tolkien'}`\n",
      "\n",
      "Note: I've assumed that you're referring to the original trilogy written by J.R.R. Tolkien. If you'd like book details for any other edition or related books (e.g., The Hobbit, The Silmarillion), please let me know!\n",
      "\n",
      "Also, if you want a single JSON response with all three books, here it is:\n",
      "\n",
      "```json\n",
      "[\n",
      "  {'book_id': 'LOTR1', 'book_name': 'The Fellowship of the Ring', 'book_author': 'J.R.R. Tolkien'},\n",
      "  {'book_id': 'LOTR2', 'book_name': 'The Two Towers', 'book_author': 'J.R.R. Tolkien'},\n",
      "  {'book_id': 'LOTR3', 'book_name': 'The Return of the King', 'book_author': 'J.R.R. Tolkien'}\n",
      "]\n",
      "```\n"
     ]
    }
   ],
   "source": [
    "print(completion.choices[0].message.content)"
   ]
  },
  {
   "cell_type": "code",
   "execution_count": null,
   "metadata": {},
   "outputs": [],
   "source": [
    "[\n",
    "  {'book_id': 'LOTR1', 'book_name': 'The Fellowship of the Ring', 'book_author': 'J.R.R. Tolkien'},\n",
    "  {'book_id': 'LOTR2', 'book_name': 'The Two Towers', 'book_author': 'J.R.R. Tolkien'},\n",
    "  {'book_id': 'LOTR3', 'book_name': 'The Return of the King', 'book_author': 'J.R.R. Tolkien'}\n",
    "]"
   ]
  },
  {
   "cell_type": "code",
   "execution_count": null,
   "metadata": {},
   "outputs": [],
   "source": []
  },
  {
   "cell_type": "markdown",
   "metadata": {},
   "source": [
    "Structure\n",
    "\n",
    "\n",
    "1. Conversation History:\n",
    "\n",
    "   Continue the provided conversation history.\n",
    "\n",
    "2. User Query:\n",
    "\n",
    "   The specific query provided by the user.\n",
    "\n",
    "   \n",
    "Relevant problem cause solution data\n",
    "\n",
    "{problems_text}\n",
    "\n",
    "Example Format for the Response\n",
    "\n",
    "Scenario 1: we get an exact cause\n",
    "\n",
    "\n",
    "Problem\n",
    "\n",
    "- Ink flakes off substrate, comes off when crinkled, or removed easily in tape test\n",
    "\n",
    "\n",
    "Causes and Solutions\n",
    "\n",
    "\n",
    "Cause: Ink drying too slow\n",
    "\n",
    "\n",
    "Solution:\n",
    "   - Check driers for heat and airflow\n",
    "Cause:  manufacturer warranty expired\n"
   ]
  },
  {
   "cell_type": "code",
   "execution_count": 8,
   "metadata": {},
   "outputs": [],
   "source": [
    "text = \"\"\"\n",
    "LangChain was launched in October 2022 as an open source project by Harrison Chase, while working at machine learning startup Robust Intelligence. The project quickly garnered popularity,[3] with improvements from hundreds of contributors on GitHub, trending discussions on Twitter, lively activity on the project's Discord server, many YouTube tutorials, and meetups in San Francisco and London. In April 2023, LangChain had incorporated and the new startup raised over $20 million in funding at a valuation of at least $200 million from venture firm Sequoia Capital, a week after announcing a $10 million seed investment from Benchmark.[4][5]\n",
    "\n",
    "In the third quarter of 2023, the LangChain Expression Language (LCEL) was introduced, which provides a declarative way to define chains of actions.[6][7]\n",
    "\n",
    "In October 2023 LangChain introduced LangServe, a deployment tool to host LCEL code as a production-ready API.[8]\n",
    "\n",
    "\"\"\""
   ]
  },
  {
   "cell_type": "code",
   "execution_count": 11,
   "metadata": {},
   "outputs": [],
   "source": [
    "json_example = {\n",
    "    \"id\":\"1234\",\n",
    "    \"text\":\"summarize_text\"\n",
    "}"
   ]
  },
  {
   "cell_type": "code",
   "execution_count": 14,
   "metadata": {},
   "outputs": [],
   "source": [
    "client = OpenAI(api_key=api_key)\n",
    "\n",
    "completion = client.chat.completions.create(\n",
    "  model=\"gpt-4o-mini\",\n",
    "  messages=[\n",
    "    {\"role\": \"user\", \"content\": f\"\"\"\n",
    "     \n",
    "     your task is to summarize the given text into a 20 words. .\n",
    "     \n",
    "     Here is the given text : ```{text}```\n",
    "     \n",
    "     \n",
    "     after summarize it gimme in the form of json output \n",
    "     \n",
    "     here is the json output example:  ---{json_example}---\n",
    "     \n",
    "     \n",
    "     \"\"\"}\n",
    "  ],\n",
    "  temperature=0.7\n",
    "  )"
   ]
  },
  {
   "cell_type": "code",
   "execution_count": 15,
   "metadata": {},
   "outputs": [
    {
     "name": "stdout",
     "output_type": "stream",
     "text": [
      "```json\n",
      "{'id': '1', 'text': 'LangChain, launched in 2022, raised $20 million, introduced LCEL and LangServe by October 2023 for API deployment.'}\n",
      "```\n"
     ]
    }
   ],
   "source": [
    "print(completion.choices[0].message.content)"
   ]
  },
  {
   "cell_type": "code",
   "execution_count": 16,
   "metadata": {},
   "outputs": [
    {
     "data": {
      "text/plain": [
       "str"
      ]
     },
     "execution_count": 16,
     "metadata": {},
     "output_type": "execute_result"
    }
   ],
   "source": [
    "type(completion.choices[0].message.content)"
   ]
  },
  {
   "cell_type": "code",
   "execution_count": null,
   "metadata": {},
   "outputs": [],
   "source": []
  },
  {
   "cell_type": "code",
   "execution_count": null,
   "metadata": {},
   "outputs": [],
   "source": []
  },
  {
   "cell_type": "code",
   "execution_count": null,
   "metadata": {},
   "outputs": [],
   "source": []
  },
  {
   "cell_type": "code",
   "execution_count": null,
   "metadata": {},
   "outputs": [],
   "source": []
  },
  {
   "cell_type": "code",
   "execution_count": 17,
   "metadata": {},
   "outputs": [
    {
     "name": "stdout",
     "output_type": "stream",
     "text": [
      "LangChain is an open-source software framework launched in October 2022 for integrating large language models into applications. It supports various use cases like chatbots, document analysis, and code evaluation. By 2023, it raised over $20 million in funding and introduced tools like LangServe and the LangChain Expression Language (LCEL).\n"
     ]
    }
   ],
   "source": [
    "from openai import OpenAI\n",
    "import os\n",
    "from dotenv import load_dotenv\n",
    "load_dotenv()\n",
    "\n",
    "api_key = os.getenv(\"OPENAI_API_KEY\")\n",
    "\n",
    "client = OpenAI(api_key=api_key)\n",
    "\n",
    "user_text = str(input(\"Enter your query here : \"))\n",
    "\n",
    "completion = client.chat.completions.create(\n",
    "  model=\"gpt-4o-mini\",\n",
    "  messages=[\n",
    "    {\"role\": \"user\", \"content\": f\"\"\"\n",
    "     \n",
    "     your task is to summarize the given text into a 50 words.\n",
    "     \n",
    "     here is the text : ```{user_text}```\n",
    "     \n",
    "     \"\"\"}\n",
    "  ],\n",
    "  temperature=0.7\n",
    "  )\n",
    "\n",
    "\n",
    "print(completion.choices[0].message.content)"
   ]
  },
  {
   "cell_type": "code",
   "execution_count": null,
   "metadata": {},
   "outputs": [],
   "source": []
  }
 ],
 "metadata": {
  "kernelspec": {
   "display_name": "env",
   "language": "python",
   "name": "python3"
  },
  "language_info": {
   "codemirror_mode": {
    "name": "ipython",
    "version": 3
   },
   "file_extension": ".py",
   "mimetype": "text/x-python",
   "name": "python",
   "nbconvert_exporter": "python",
   "pygments_lexer": "ipython3",
   "version": "3.11.9"
  }
 },
 "nbformat": 4,
 "nbformat_minor": 2
}
