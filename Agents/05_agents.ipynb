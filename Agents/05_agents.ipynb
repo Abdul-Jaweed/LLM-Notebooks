{
 "cells": [
  {
   "cell_type": "code",
   "execution_count": 5,
   "metadata": {},
   "outputs": [
    {
     "data": {
      "text/plain": [
       "True"
      ]
     },
     "execution_count": 5,
     "metadata": {},
     "output_type": "execute_result"
    }
   ],
   "source": [
    "import os\n",
    "from dotenv import load_dotenv\n",
    "\n",
    "load_dotenv()"
   ]
  },
  {
   "cell_type": "code",
   "execution_count": 7,
   "metadata": {},
   "outputs": [],
   "source": [
    "from langchain_openai import ChatOpenAI\n",
    "\n",
    "llm = ChatOpenAI(\n",
    "    api_key=os.getenv(\"OPENAI_API_KEY\"),\n",
    "    model=\"gpt-4o-mini\"\n",
    ")"
   ]
  },
  {
   "cell_type": "code",
   "execution_count": 8,
   "metadata": {},
   "outputs": [],
   "source": [
    "from langgraph.graph import MessagesState\n",
    "\n",
    "class MessagesState(MessagesState):\n",
    "    # Add any keys needed beyond messages, which is pre-built \n",
    "    pass"
   ]
  },
  {
   "cell_type": "code",
   "execution_count": 10,
   "metadata": {},
   "outputs": [],
   "source": [
    "from langchain_core.messages import AIMessage, HumanMessage\n",
    "from pprint import pprint"
   ]
  },
  {
   "cell_type": "code",
   "execution_count": 11,
   "metadata": {},
   "outputs": [],
   "source": [
    "from langgraph.graph import StateGraph, START, END\n",
    "from IPython.display import Image, display"
   ]
  },
  {
   "cell_type": "code",
   "execution_count": 12,
   "metadata": {},
   "outputs": [],
   "source": [
    "## Node\n",
    "\n",
    "def llm_openai(state:MessagesState):\n",
    "    return {\"messages\": llm.invoke(state[\"messages\"])}"
   ]
  },
  {
   "cell_type": "code",
   "execution_count": 13,
   "metadata": {},
   "outputs": [],
   "source": [
    "## Build Graph\n",
    "\n",
    "builder = StateGraph(MessagesState)"
   ]
  },
  {
   "cell_type": "code",
   "execution_count": 14,
   "metadata": {},
   "outputs": [
    {
     "data": {
      "text/plain": [
       "<langgraph.graph.state.StateGraph at 0x2e184632010>"
      ]
     },
     "execution_count": 14,
     "metadata": {},
     "output_type": "execute_result"
    }
   ],
   "source": [
    "builder.add_node(\"OpenAI_ChatBot\", llm_openai)"
   ]
  },
  {
   "cell_type": "code",
   "execution_count": 15,
   "metadata": {},
   "outputs": [
    {
     "data": {
      "text/plain": [
       "<langgraph.graph.state.StateGraph at 0x2e184632010>"
      ]
     },
     "execution_count": 15,
     "metadata": {},
     "output_type": "execute_result"
    }
   ],
   "source": [
    "builder.add_edge(START, \"OpenAI_ChatBot\")\n",
    "builder.add_edge(\"OpenAI_ChatBot\", END)"
   ]
  },
  {
   "cell_type": "code",
   "execution_count": 16,
   "metadata": {},
   "outputs": [],
   "source": [
    "from langgraph.checkpoint.memory import MemorySaver\n",
    "\n",
    "memory = MemorySaver()"
   ]
  },
  {
   "cell_type": "code",
   "execution_count": 18,
   "metadata": {},
   "outputs": [],
   "source": [
    "graph = builder.compile(checkpointer=memory)"
   ]
  },
  {
   "cell_type": "code",
   "execution_count": 19,
   "metadata": {},
   "outputs": [
    {
     "data": {
      "image/jpeg": "[encoded data removed]",
      "text/plain": [
       "<IPython.core.display.Image object>"
      ]
     },
     "metadata": {},
     "output_type": "display_data"
    }
   ],
   "source": [
    "display(Image(graph.get_graph().draw_mermaid_png()))"
   ]
  },
  {
   "cell_type": "code",
   "execution_count": 21,
   "metadata": {},
   "outputs": [
    {
     "name": "stdout",
     "output_type": "stream",
     "text": [
      "================================\u001b[1m Human Message \u001b[0m=================================\n",
      "\n",
      "who is the winner of 2020 us election\n",
      "==================================\u001b[1m Ai Message \u001b[0m==================================\n",
      "\n",
      "Joe Biden won the 2020 U.S. presidential election. He officially took office as the 46th president of the United States on January 20, 2021.\n"
     ]
    }
   ],
   "source": [
    "## Thread ID\n",
    "\n",
    "config = {\"configurable\": {\"thread_id\":\"naga\"}}\n",
    "\n",
    "messages = [HumanMessage(content=\"who is the winner of 2020 us election\")]\n",
    "\n",
    "response = graph.invoke({\"messages\":messages}, config)\n",
    "\n",
    "for m in response['messages']:\n",
    "    m.pretty_print()"
   ]
  },
  {
   "cell_type": "code",
   "execution_count": 22,
   "metadata": {},
   "outputs": [
    {
     "name": "stdout",
     "output_type": "stream",
     "text": [
      "================================\u001b[1m Human Message \u001b[0m=================================\n",
      "\n",
      "who is the winner of 2020 us election\n",
      "==================================\u001b[1m Ai Message \u001b[0m==================================\n",
      "\n",
      "Joe Biden won the 2020 U.S. presidential election. He officially took office as the 46th president of the United States on January 20, 2021.\n",
      "================================\u001b[1m Human Message \u001b[0m=================================\n",
      "\n",
      "why Joe Biden win the election ??\n",
      "==================================\u001b[1m Ai Message \u001b[0m==================================\n",
      "\n",
      "Joe Biden's victory in the 2020 U.S. presidential election can be attributed to several key factors:\n",
      "\n",
      "1. **Voter Turnout**: The 2020 election saw a historically high voter turnout, with a significant increase in mail-in and early voting due to the COVID-19 pandemic. Many voters were motivated to participate in the election, leading to higher engagement, particularly among younger voters and those in urban areas.\n",
      "\n",
      "2. **COVID-19 Pandemic**: The handling of the COVID-19 pandemic was a central issue in the election. Many voters expressed dissatisfaction with the Trump administration's response to the pandemic, leading them to favor Biden, who advocated for a more cautious and science-based approach.\n",
      "\n",
      "3. **Economic Concerns**: The economic impact of the pandemic, including job losses and business closures, influenced voter sentiment. Biden's campaign focused on economic recovery plans that resonated with many voters looking for stability and support.\n",
      "\n",
      "4. **Demographic Shifts**: Biden was able to build a broad coalition of support, including significant backing from Black voters, suburban women, and younger voters. His appeal to a diverse electorate helped him win key battleground states.\n",
      "\n",
      "5. **Campaign Strategy**: Biden's campaign focused on unity and healing, presenting him as a candidate who could bridge political divides. His message emphasized restoring normalcy and dignity to the presidency, appealing to those fatigued by the divisive rhetoric of the previous administration.\n",
      "\n",
      "6. **Trump's Approval Ratings**: President Donald Trump's approval ratings were relatively low leading up to the election, with many voters expressing concerns about his leadership style and policies.\n",
      "\n",
      "7. **Key States**: Biden's victories in critical swing states like Pennsylvania, Michigan, and Wisconsin, which had previously voted for Trump in 2016, were crucial for his electoral win. He managed to flip these states by appealing to a broad range of voters.\n",
      "\n",
      "These factors combined to create a favorable environment for Biden, leading to his election as president.\n"
     ]
    }
   ],
   "source": [
    "messages = [HumanMessage(content=\"why Joe Biden win the election ??\")]\n",
    "\n",
    "response = graph.invoke({\"messages\":messages}, config)\n",
    "\n",
    "for m in response['messages']:\n",
    "    m.pretty_print()"
   ]
  },
  {
   "cell_type": "code",
   "execution_count": 23,
   "metadata": {},
   "outputs": [
    {
     "name": "stdout",
     "output_type": "stream",
     "text": [
      "================================\u001b[1m Human Message \u001b[0m=================================\n",
      "\n",
      "who is the winner of 2020 us election\n",
      "==================================\u001b[1m Ai Message \u001b[0m==================================\n",
      "\n",
      "Joe Biden won the 2020 U.S. presidential election. He officially took office as the 46th president of the United States on January 20, 2021.\n",
      "================================\u001b[1m Human Message \u001b[0m=================================\n",
      "\n",
      "why Joe Biden win the election ??\n",
      "==================================\u001b[1m Ai Message \u001b[0m==================================\n",
      "\n",
      "Joe Biden's victory in the 2020 U.S. presidential election can be attributed to several key factors:\n",
      "\n",
      "1. **Voter Turnout**: The 2020 election saw a historically high voter turnout, with a significant increase in mail-in and early voting due to the COVID-19 pandemic. Many voters were motivated to participate in the election, leading to higher engagement, particularly among younger voters and those in urban areas.\n",
      "\n",
      "2. **COVID-19 Pandemic**: The handling of the COVID-19 pandemic was a central issue in the election. Many voters expressed dissatisfaction with the Trump administration's response to the pandemic, leading them to favor Biden, who advocated for a more cautious and science-based approach.\n",
      "\n",
      "3. **Economic Concerns**: The economic impact of the pandemic, including job losses and business closures, influenced voter sentiment. Biden's campaign focused on economic recovery plans that resonated with many voters looking for stability and support.\n",
      "\n",
      "4. **Demographic Shifts**: Biden was able to build a broad coalition of support, including significant backing from Black voters, suburban women, and younger voters. His appeal to a diverse electorate helped him win key battleground states.\n",
      "\n",
      "5. **Campaign Strategy**: Biden's campaign focused on unity and healing, presenting him as a candidate who could bridge political divides. His message emphasized restoring normalcy and dignity to the presidency, appealing to those fatigued by the divisive rhetoric of the previous administration.\n",
      "\n",
      "6. **Trump's Approval Ratings**: President Donald Trump's approval ratings were relatively low leading up to the election, with many voters expressing concerns about his leadership style and policies.\n",
      "\n",
      "7. **Key States**: Biden's victories in critical swing states like Pennsylvania, Michigan, and Wisconsin, which had previously voted for Trump in 2016, were crucial for his electoral win. He managed to flip these states by appealing to a broad range of voters.\n",
      "\n",
      "These factors combined to create a favorable environment for Biden, leading to his election as president.\n",
      "================================\u001b[1m Human Message \u001b[0m=================================\n",
      "\n",
      "who is vp ??\n",
      "==================================\u001b[1m Ai Message \u001b[0m==================================\n",
      "\n",
      "The Vice President of the United States is Kamala Harris. She was inaugurated as Vice President on January 20, 2021, alongside President Joe Biden. Kamala Harris is the first woman, the first Black woman, and the first person of South Asian descent to hold the office of Vice President.\n"
     ]
    }
   ],
   "source": [
    "messages = [HumanMessage(content=\"who is vp ??\")]\n",
    "\n",
    "response = graph.invoke({\"messages\":messages}, config)\n",
    "\n",
    "for m in response['messages']:\n",
    "    m.pretty_print()"
   ]
  },
  {
   "cell_type": "code",
   "execution_count": 24,
   "metadata": {},
   "outputs": [
    {
     "name": "stdout",
     "output_type": "stream",
     "text": [
      "================================\u001b[1m Human Message \u001b[0m=================================\n",
      "\n",
      "who is vp ??\n",
      "==================================\u001b[1m Ai Message \u001b[0m==================================\n",
      "\n",
      "As of my last update in October 2023, the Vice President of the United States is Kamala Harris. She took office on January 20, 2021, alongside President Joe Biden. If you're referring to a different context or a different country, please provide more specifics!\n"
     ]
    }
   ],
   "source": [
    "## Thread ID\n",
    "\n",
    "config = {\"configurable\": {\"thread_id\":\"venket\"}}\n",
    "\n",
    "messages = [HumanMessage(content=\"who is vp ??\")]\n",
    "\n",
    "response = graph.invoke({\"messages\":messages}, config)\n",
    "\n",
    "for m in response['messages']:\n",
    "    m.pretty_print()"
   ]
  },
  {
   "cell_type": "code",
   "execution_count": 25,
   "metadata": {},
   "outputs": [
    {
     "name": "stdout",
     "output_type": "stream",
     "text": [
      "================================\u001b[1m Human Message \u001b[0m=================================\n",
      "\n",
      "who is vp ??\n",
      "==================================\u001b[1m Ai Message \u001b[0m==================================\n",
      "\n",
      "As of my last update in October 2023, the Vice President of the United States is Kamala Harris. She took office on January 20, 2021, alongside President Joe Biden. If you're referring to a different context or a different country, please provide more specifics!\n",
      "================================\u001b[1m Human Message \u001b[0m=================================\n",
      "\n",
      "add 2 and 6\n",
      "==================================\u001b[1m Ai Message \u001b[0m==================================\n",
      "\n",
      "2 plus 6 equals 8.\n"
     ]
    }
   ],
   "source": [
    "## Thread ID\n",
    "\n",
    "config = {\"configurable\": {\"thread_id\":\"venket\"}}\n",
    "\n",
    "messages = [HumanMessage(content=\"add 2 and 6\")]\n",
    "\n",
    "response = graph.invoke({\"messages\":messages}, config)\n",
    "\n",
    "for m in response['messages']:\n",
    "    m.pretty_print()"
   ]
  },
  {
   "cell_type": "code",
   "execution_count": 26,
   "metadata": {},
   "outputs": [
    {
     "name": "stdout",
     "output_type": "stream",
     "text": [
      "================================\u001b[1m Human Message \u001b[0m=================================\n",
      "\n",
      "who is vp ??\n",
      "==================================\u001b[1m Ai Message \u001b[0m==================================\n",
      "\n",
      "As of my last update in October 2023, the Vice President of the United States is Kamala Harris. She took office on January 20, 2021, alongside President Joe Biden. If you're referring to a different context or a different country, please provide more specifics!\n",
      "================================\u001b[1m Human Message \u001b[0m=================================\n",
      "\n",
      "add 2 and 6\n",
      "==================================\u001b[1m Ai Message \u001b[0m==================================\n",
      "\n",
      "2 plus 6 equals 8.\n",
      "================================\u001b[1m Human Message \u001b[0m=================================\n",
      "\n",
      "also add 5\n",
      "==================================\u001b[1m Ai Message \u001b[0m==================================\n",
      "\n",
      "Adding 5 to the previous sum of 8 gives you 13. So, \\(2 + 6 + 5 = 13\\).\n"
     ]
    }
   ],
   "source": [
    "messages = [HumanMessage(content=\"also add 5\")]\n",
    "\n",
    "response = graph.invoke({\"messages\":messages}, config)\n",
    "\n",
    "for m in response['messages']:\n",
    "    m.pretty_print()"
   ]
  },
  {
   "cell_type": "code",
   "execution_count": 27,
   "metadata": {},
   "outputs": [
    {
     "name": "stdout",
     "output_type": "stream",
     "text": [
      "================================\u001b[1m Human Message \u001b[0m=================================\n",
      "\n",
      "who is the winner of 2020 us election\n",
      "==================================\u001b[1m Ai Message \u001b[0m==================================\n",
      "\n",
      "Joe Biden won the 2020 U.S. presidential election. He officially took office as the 46th president of the United States on January 20, 2021.\n",
      "================================\u001b[1m Human Message \u001b[0m=================================\n",
      "\n",
      "why Joe Biden win the election ??\n",
      "==================================\u001b[1m Ai Message \u001b[0m==================================\n",
      "\n",
      "Joe Biden's victory in the 2020 U.S. presidential election can be attributed to several key factors:\n",
      "\n",
      "1. **Voter Turnout**: The 2020 election saw a historically high voter turnout, with a significant increase in mail-in and early voting due to the COVID-19 pandemic. Many voters were motivated to participate in the election, leading to higher engagement, particularly among younger voters and those in urban areas.\n",
      "\n",
      "2. **COVID-19 Pandemic**: The handling of the COVID-19 pandemic was a central issue in the election. Many voters expressed dissatisfaction with the Trump administration's response to the pandemic, leading them to favor Biden, who advocated for a more cautious and science-based approach.\n",
      "\n",
      "3. **Economic Concerns**: The economic impact of the pandemic, including job losses and business closures, influenced voter sentiment. Biden's campaign focused on economic recovery plans that resonated with many voters looking for stability and support.\n",
      "\n",
      "4. **Demographic Shifts**: Biden was able to build a broad coalition of support, including significant backing from Black voters, suburban women, and younger voters. His appeal to a diverse electorate helped him win key battleground states.\n",
      "\n",
      "5. **Campaign Strategy**: Biden's campaign focused on unity and healing, presenting him as a candidate who could bridge political divides. His message emphasized restoring normalcy and dignity to the presidency, appealing to those fatigued by the divisive rhetoric of the previous administration.\n",
      "\n",
      "6. **Trump's Approval Ratings**: President Donald Trump's approval ratings were relatively low leading up to the election, with many voters expressing concerns about his leadership style and policies.\n",
      "\n",
      "7. **Key States**: Biden's victories in critical swing states like Pennsylvania, Michigan, and Wisconsin, which had previously voted for Trump in 2016, were crucial for his electoral win. He managed to flip these states by appealing to a broad range of voters.\n",
      "\n",
      "These factors combined to create a favorable environment for Biden, leading to his election as president.\n",
      "================================\u001b[1m Human Message \u001b[0m=================================\n",
      "\n",
      "who is vp ??\n",
      "==================================\u001b[1m Ai Message \u001b[0m==================================\n",
      "\n",
      "The Vice President of the United States is Kamala Harris. She was inaugurated as Vice President on January 20, 2021, alongside President Joe Biden. Kamala Harris is the first woman, the first Black woman, and the first person of South Asian descent to hold the office of Vice President.\n",
      "================================\u001b[1m Human Message \u001b[0m=================================\n",
      "\n",
      "also add 5\n",
      "==================================\u001b[1m Ai Message \u001b[0m==================================\n",
      "\n",
      "Sure! Here are five additional points about Kamala Harris:\n",
      "\n",
      "1. **Background**: Kamala Harris was born on October 20, 1964, in Oakland, California. She is the daughter of immigrants; her mother is from India, and her father is from Jamaica.\n",
      "\n",
      "2. **Education**: Harris earned her undergraduate degree from Howard University, a historically Black university, and received her law degree from the University of California, Hastings College of the Law.\n",
      "\n",
      "3. **Career in Law and Politics**: Before becoming Vice President, Kamala Harris served as the Attorney General of California from 2011 to 2017. She was also a U.S. Senator from California from 2017 until her election as Vice President in 2020.\n",
      "\n",
      "4. **Advocacy**: Throughout her career, Harris has focused on issues such as criminal justice reform, immigration reform, healthcare, and women's rights. She has been an advocate for marginalized communities and has worked on legislation addressing these issues.\n",
      "\n",
      "5. **Historic Election**: As Vice President, Harris made history not only as the first woman to hold the office but also as the first Black and first South Asian Vice President, breaking significant barriers in U.S. politics and representation.\n",
      "\n",
      "If you have any further questions or need additional information, feel free to ask!\n"
     ]
    }
   ],
   "source": [
    "## Thread ID\n",
    "\n",
    "config = {\"configurable\": {\"thread_id\":\"naga\"}}\n",
    "\n",
    "messages = [HumanMessage(content=\"also add 5\")]\n",
    "\n",
    "response = graph.invoke({\"messages\":messages}, config)\n",
    "\n",
    "for m in response['messages']:\n",
    "    m.pretty_print()"
   ]
  },
  {
   "cell_type": "code",
   "execution_count": null,
   "metadata": {},
   "outputs": [],
   "source": []
  }
 ],
 "metadata": {
  "kernelspec": {
   "display_name": "env",
   "language": "python",
   "name": "python3"
  },
  "language_info": {
   "codemirror_mode": {
    "name": "ipython",
    "version": 3
   },
   "file_extension": ".py",
   "mimetype": "text/x-python",
   "name": "python",
   "nbconvert_exporter": "python",
   "pygments_lexer": "ipython3",
   "version": "3.11.9"
  }
 },
 "nbformat": 4,
 "nbformat_minor": 2
}
