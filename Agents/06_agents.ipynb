{
 "cells": [
  {
   "cell_type": "code",
   "execution_count": 5,
   "metadata": {},
   "outputs": [
    {
     "name": "stdout",
     "output_type": "stream",
     "text": [
      "Collecting langgraph-checkpoint-mongodb\n",
      "  Downloading langgraph_checkpoint_mongodb-0.1.0-py3-none-any.whl.metadata (3.2 kB)\n",
      "Requirement already satisfied: langgraph<0.3.0,>=0.2.38 in k:\\zero2llmops\\llm\\env\\lib\\site-packages (from langgraph-checkpoint-mongodb) (0.2.54)\n",
      "Requirement already satisfied: langgraph-checkpoint<3.0.0,>=2.0.0 in k:\\zero2llmops\\llm\\env\\lib\\site-packages (from langgraph-checkpoint-mongodb) (2.0.8)\n",
      "Collecting motor>3.5.0 (from langgraph-checkpoint-mongodb)\n",
      "  Downloading motor-3.6.0-py3-none-any.whl.metadata (21 kB)\n",
      "Collecting pymongo<4.10.0,>=4.9.0 (from langgraph-checkpoint-mongodb)\n",
      "  Downloading pymongo-4.9.2-cp311-cp311-win_amd64.whl.metadata (22 kB)\n",
      "Requirement already satisfied: langchain-core!=0.3.0,!=0.3.1,!=0.3.10,!=0.3.11,!=0.3.12,!=0.3.13,!=0.3.14,!=0.3.2,!=0.3.3,!=0.3.4,!=0.3.5,!=0.3.6,!=0.3.7,!=0.3.8,!=0.3.9,<0.4.0,>=0.2.43 in k:\\zero2llmops\\llm\\env\\lib\\site-packages (from langgraph<0.3.0,>=0.2.38->langgraph-checkpoint-mongodb) (0.3.15)\n",
      "Requirement already satisfied: langgraph-sdk<0.2.0,>=0.1.42 in k:\\zero2llmops\\llm\\env\\lib\\site-packages (from langgraph<0.3.0,>=0.2.38->langgraph-checkpoint-mongodb) (0.1.42)\n",
      "Requirement already satisfied: msgpack<2.0.0,>=1.1.0 in k:\\zero2llmops\\llm\\env\\lib\\site-packages (from langgraph-checkpoint<3.0.0,>=2.0.0->langgraph-checkpoint-mongodb) (1.1.0)\n",
      "Collecting dnspython<3.0.0,>=1.16.0 (from pymongo<4.10.0,>=4.9.0->langgraph-checkpoint-mongodb)\n",
      "  Downloading dnspython-2.7.0-py3-none-any.whl.metadata (5.8 kB)\n",
      "Requirement already satisfied: PyYAML>=5.3 in k:\\zero2llmops\\llm\\env\\lib\\site-packages (from langchain-core!=0.3.0,!=0.3.1,!=0.3.10,!=0.3.11,!=0.3.12,!=0.3.13,!=0.3.14,!=0.3.2,!=0.3.3,!=0.3.4,!=0.3.5,!=0.3.6,!=0.3.7,!=0.3.8,!=0.3.9,<0.4.0,>=0.2.43->langgraph<0.3.0,>=0.2.38->langgraph-checkpoint-mongodb) (6.0.2)\n",
      "Requirement already satisfied: jsonpatch<2.0,>=1.33 in k:\\zero2llmops\\llm\\env\\lib\\site-packages (from langchain-core!=0.3.0,!=0.3.1,!=0.3.10,!=0.3.11,!=0.3.12,!=0.3.13,!=0.3.14,!=0.3.2,!=0.3.3,!=0.3.4,!=0.3.5,!=0.3.6,!=0.3.7,!=0.3.8,!=0.3.9,<0.4.0,>=0.2.43->langgraph<0.3.0,>=0.2.38->langgraph-checkpoint-mongodb) (1.33)\n",
      "Requirement already satisfied: langsmith<0.2.0,>=0.1.125 in k:\\zero2llmops\\llm\\env\\lib\\site-packages (from langchain-core!=0.3.0,!=0.3.1,!=0.3.10,!=0.3.11,!=0.3.12,!=0.3.13,!=0.3.14,!=0.3.2,!=0.3.3,!=0.3.4,!=0.3.5,!=0.3.6,!=0.3.7,!=0.3.8,!=0.3.9,<0.4.0,>=0.2.43->langgraph<0.3.0,>=0.2.38->langgraph-checkpoint-mongodb) (0.1.137)\n",
      "Requirement already satisfied: packaging<25,>=23.2 in k:\\zero2llmops\\llm\\env\\lib\\site-packages (from langchain-core!=0.3.0,!=0.3.1,!=0.3.10,!=0.3.11,!=0.3.12,!=0.3.13,!=0.3.14,!=0.3.2,!=0.3.3,!=0.3.4,!=0.3.5,!=0.3.6,!=0.3.7,!=0.3.8,!=0.3.9,<0.4.0,>=0.2.43->langgraph<0.3.0,>=0.2.38->langgraph-checkpoint-mongodb) (24.1)\n",
      "Requirement already satisfied: pydantic<3.0.0,>=2.5.2 in k:\\zero2llmops\\llm\\env\\lib\\site-packages (from langchain-core!=0.3.0,!=0.3.1,!=0.3.10,!=0.3.11,!=0.3.12,!=0.3.13,!=0.3.14,!=0.3.2,!=0.3.3,!=0.3.4,!=0.3.5,!=0.3.6,!=0.3.7,!=0.3.8,!=0.3.9,<0.4.0,>=0.2.43->langgraph<0.3.0,>=0.2.38->langgraph-checkpoint-mongodb) (2.9.2)\n",
      "Requirement already satisfied: tenacity!=8.4.0,<10.0.0,>=8.1.0 in k:\\zero2llmops\\llm\\env\\lib\\site-packages (from langchain-core!=0.3.0,!=0.3.1,!=0.3.10,!=0.3.11,!=0.3.12,!=0.3.13,!=0.3.14,!=0.3.2,!=0.3.3,!=0.3.4,!=0.3.5,!=0.3.6,!=0.3.7,!=0.3.8,!=0.3.9,<0.4.0,>=0.2.43->langgraph<0.3.0,>=0.2.38->langgraph-checkpoint-mongodb) (9.0.0)\n",
      "Requirement already satisfied: typing-extensions>=4.7 in k:\\zero2llmops\\llm\\env\\lib\\site-packages (from langchain-core!=0.3.0,!=0.3.1,!=0.3.10,!=0.3.11,!=0.3.12,!=0.3.13,!=0.3.14,!=0.3.2,!=0.3.3,!=0.3.4,!=0.3.5,!=0.3.6,!=0.3.7,!=0.3.8,!=0.3.9,<0.4.0,>=0.2.43->langgraph<0.3.0,>=0.2.38->langgraph-checkpoint-mongodb) (4.12.2)\n",
      "Requirement already satisfied: httpx>=0.25.2 in k:\\zero2llmops\\llm\\env\\lib\\site-packages (from langgraph-sdk<0.2.0,>=0.1.42->langgraph<0.3.0,>=0.2.38->langgraph-checkpoint-mongodb) (0.27.2)\n",
      "Requirement already satisfied: orjson>=3.10.1 in k:\\zero2llmops\\llm\\env\\lib\\site-packages (from langgraph-sdk<0.2.0,>=0.1.42->langgraph<0.3.0,>=0.2.38->langgraph-checkpoint-mongodb) (3.10.10)\n",
      "Requirement already satisfied: anyio in k:\\zero2llmops\\llm\\env\\lib\\site-packages (from httpx>=0.25.2->langgraph-sdk<0.2.0,>=0.1.42->langgraph<0.3.0,>=0.2.38->langgraph-checkpoint-mongodb) (4.6.2.post1)\n",
      "Requirement already satisfied: certifi in k:\\zero2llmops\\llm\\env\\lib\\site-packages (from httpx>=0.25.2->langgraph-sdk<0.2.0,>=0.1.42->langgraph<0.3.0,>=0.2.38->langgraph-checkpoint-mongodb) (2024.8.30)\n",
      "Requirement already satisfied: httpcore==1.* in k:\\zero2llmops\\llm\\env\\lib\\site-packages (from httpx>=0.25.2->langgraph-sdk<0.2.0,>=0.1.42->langgraph<0.3.0,>=0.2.38->langgraph-checkpoint-mongodb) (1.0.6)\n",
      "Requirement already satisfied: idna in k:\\zero2llmops\\llm\\env\\lib\\site-packages (from httpx>=0.25.2->langgraph-sdk<0.2.0,>=0.1.42->langgraph<0.3.0,>=0.2.38->langgraph-checkpoint-mongodb) (3.10)\n",
      "Requirement already satisfied: sniffio in k:\\zero2llmops\\llm\\env\\lib\\site-packages (from httpx>=0.25.2->langgraph-sdk<0.2.0,>=0.1.42->langgraph<0.3.0,>=0.2.38->langgraph-checkpoint-mongodb) (1.3.1)\n",
      "Requirement already satisfied: h11<0.15,>=0.13 in k:\\zero2llmops\\llm\\env\\lib\\site-packages (from httpcore==1.*->httpx>=0.25.2->langgraph-sdk<0.2.0,>=0.1.42->langgraph<0.3.0,>=0.2.38->langgraph-checkpoint-mongodb) (0.14.0)\n",
      "Requirement already satisfied: jsonpointer>=1.9 in k:\\zero2llmops\\llm\\env\\lib\\site-packages (from jsonpatch<2.0,>=1.33->langchain-core!=0.3.0,!=0.3.1,!=0.3.10,!=0.3.11,!=0.3.12,!=0.3.13,!=0.3.14,!=0.3.2,!=0.3.3,!=0.3.4,!=0.3.5,!=0.3.6,!=0.3.7,!=0.3.8,!=0.3.9,<0.4.0,>=0.2.43->langgraph<0.3.0,>=0.2.38->langgraph-checkpoint-mongodb) (3.0.0)\n",
      "Requirement already satisfied: requests<3,>=2 in k:\\zero2llmops\\llm\\env\\lib\\site-packages (from langsmith<0.2.0,>=0.1.125->langchain-core!=0.3.0,!=0.3.1,!=0.3.10,!=0.3.11,!=0.3.12,!=0.3.13,!=0.3.14,!=0.3.2,!=0.3.3,!=0.3.4,!=0.3.5,!=0.3.6,!=0.3.7,!=0.3.8,!=0.3.9,<0.4.0,>=0.2.43->langgraph<0.3.0,>=0.2.38->langgraph-checkpoint-mongodb) (2.32.3)\n",
      "Requirement already satisfied: requests-toolbelt<2.0.0,>=1.0.0 in k:\\zero2llmops\\llm\\env\\lib\\site-packages (from langsmith<0.2.0,>=0.1.125->langchain-core!=0.3.0,!=0.3.1,!=0.3.10,!=0.3.11,!=0.3.12,!=0.3.13,!=0.3.14,!=0.3.2,!=0.3.3,!=0.3.4,!=0.3.5,!=0.3.6,!=0.3.7,!=0.3.8,!=0.3.9,<0.4.0,>=0.2.43->langgraph<0.3.0,>=0.2.38->langgraph-checkpoint-mongodb) (1.0.0)\n",
      "Requirement already satisfied: annotated-types>=0.6.0 in k:\\zero2llmops\\llm\\env\\lib\\site-packages (from pydantic<3.0.0,>=2.5.2->langchain-core!=0.3.0,!=0.3.1,!=0.3.10,!=0.3.11,!=0.3.12,!=0.3.13,!=0.3.14,!=0.3.2,!=0.3.3,!=0.3.4,!=0.3.5,!=0.3.6,!=0.3.7,!=0.3.8,!=0.3.9,<0.4.0,>=0.2.43->langgraph<0.3.0,>=0.2.38->langgraph-checkpoint-mongodb) (0.7.0)\n",
      "Requirement already satisfied: pydantic-core==2.23.4 in k:\\zero2llmops\\llm\\env\\lib\\site-packages (from pydantic<3.0.0,>=2.5.2->langchain-core!=0.3.0,!=0.3.1,!=0.3.10,!=0.3.11,!=0.3.12,!=0.3.13,!=0.3.14,!=0.3.2,!=0.3.3,!=0.3.4,!=0.3.5,!=0.3.6,!=0.3.7,!=0.3.8,!=0.3.9,<0.4.0,>=0.2.43->langgraph<0.3.0,>=0.2.38->langgraph-checkpoint-mongodb) (2.23.4)\n",
      "Requirement already satisfied: charset-normalizer<4,>=2 in k:\\zero2llmops\\llm\\env\\lib\\site-packages (from requests<3,>=2->langsmith<0.2.0,>=0.1.125->langchain-core!=0.3.0,!=0.3.1,!=0.3.10,!=0.3.11,!=0.3.12,!=0.3.13,!=0.3.14,!=0.3.2,!=0.3.3,!=0.3.4,!=0.3.5,!=0.3.6,!=0.3.7,!=0.3.8,!=0.3.9,<0.4.0,>=0.2.43->langgraph<0.3.0,>=0.2.38->langgraph-checkpoint-mongodb) (3.4.0)\n",
      "Requirement already satisfied: urllib3<3,>=1.21.1 in k:\\zero2llmops\\llm\\env\\lib\\site-packages (from requests<3,>=2->langsmith<0.2.0,>=0.1.125->langchain-core!=0.3.0,!=0.3.1,!=0.3.10,!=0.3.11,!=0.3.12,!=0.3.13,!=0.3.14,!=0.3.2,!=0.3.3,!=0.3.4,!=0.3.5,!=0.3.6,!=0.3.7,!=0.3.8,!=0.3.9,<0.4.0,>=0.2.43->langgraph<0.3.0,>=0.2.38->langgraph-checkpoint-mongodb) (2.2.3)\n",
      "Downloading langgraph_checkpoint_mongodb-0.1.0-py3-none-any.whl (9.7 kB)\n",
      "Downloading motor-3.6.0-py3-none-any.whl (74 kB)\n",
      "Downloading pymongo-4.9.2-cp311-cp311-win_amd64.whl (874 kB)\n",
      "   ---------------------------------------- 0.0/874.7 kB ? eta -:--:--\n",
      "   ----------- ---------------------------- 262.1/874.7 kB ? eta -:--:--\n",
      "   ---------------------------------------- 874.7/874.7 kB 2.0 MB/s eta 0:00:00\n",
      "Downloading dnspython-2.7.0-py3-none-any.whl (313 kB)\n",
      "Installing collected packages: dnspython, pymongo, motor, langgraph-checkpoint-mongodb\n",
      "Successfully installed dnspython-2.7.0 langgraph-checkpoint-mongodb-0.1.0 motor-3.6.0 pymongo-4.9.2\n"
     ]
    }
   ],
   "source": [
    "!pip install langgraph-checkpoint-mongodb"
   ]
  },
  {
   "cell_type": "code",
   "execution_count": 7,
   "metadata": {},
   "outputs": [],
   "source": [
    "from langgraph.checkpoint.mongodb import MongoDBSaver\n",
    "from pymongo import MongoClient"
   ]
  },
  {
   "cell_type": "code",
   "execution_count": null,
   "metadata": {},
   "outputs": [],
   "source": [
    "mongo_client = MongoClient(\"\")\n",
    "saver = MongoClient(mongo_client)"
   ]
  },
  {
   "cell_type": "code",
   "execution_count": null,
   "metadata": {},
   "outputs": [],
   "source": [
    "graph = builder.compile(checkpointer=saver)"
   ]
  },
  {
   "cell_type": "code",
   "execution_count": null,
   "metadata": {},
   "outputs": [],
   "source": [
    "## Thread ID\n",
    "\n",
    "config = {\"configurable\": {\"thread_id\":\"naga\"}}\n",
    "\n",
    "messages = [HumanMessage(content=\"who is the winner of 2020 us election\")]\n",
    "\n",
    "response = graph.invoke({\"messages\":messages}, config)\n",
    "\n",
    "for m in response['messages']:\n",
    "    m.pretty_print()"
   ]
  },
  {
   "cell_type": "code",
   "execution_count": null,
   "metadata": {},
   "outputs": [],
   "source": []
  },
  {
   "cell_type": "markdown",
   "metadata": {},
   "source": [
    "## **Trimming**"
   ]
  },
  {
   "cell_type": "code",
   "execution_count": 9,
   "metadata": {},
   "outputs": [],
   "source": [
    "from langchain_core.messages import AIMessage, HumanMessage, RemoveMessage\n",
    "from langgraph.graph import add_messages"
   ]
  },
  {
   "cell_type": "code",
   "execution_count": 25,
   "metadata": {},
   "outputs": [],
   "source": [
    "humanMsg = HumanMessage(content=\"Hey How are you\", name=\"human\", id=12)\n",
    "humanMsg1 = AIMessage(content=\"Hey fine\", name=\"human\", id=123)\n",
    "humanMsg2 = HumanMessage(content=\"Hey ai\", name=\"human\", id=124)\n",
    "humanMsg3 = AIMessage(content=\"Hey Human\", name=\"human\", id=125)\n",
    "humanMsg4 = HumanMessage(content=\"Heyaaa\", name=\"human\", id=126)"
   ]
  },
  {
   "cell_type": "code",
   "execution_count": 26,
   "metadata": {},
   "outputs": [
    {
     "data": {
      "text/plain": [
       "HumanMessage(content='Hey How are you', additional_kwargs={}, response_metadata={}, name='human', id='12')"
      ]
     },
     "execution_count": 26,
     "metadata": {},
     "output_type": "execute_result"
    }
   ],
   "source": [
    "humanMsg"
   ]
  },
  {
   "cell_type": "code",
   "execution_count": 27,
   "metadata": {},
   "outputs": [],
   "source": [
    "redMsg = add_messages(humanMsg, humanMsg1)"
   ]
  },
  {
   "cell_type": "code",
   "execution_count": 30,
   "metadata": {},
   "outputs": [
    {
     "data": {
      "text/plain": [
       "[HumanMessage(content='Hey How are you', additional_kwargs={}, response_metadata={}, name='human', id='12'),\n",
       " AIMessage(content='Hey fine', additional_kwargs={}, response_metadata={}, name='human', id='123')]"
      ]
     },
     "execution_count": 30,
     "metadata": {},
     "output_type": "execute_result"
    }
   ],
   "source": [
    "redMsg"
   ]
  },
  {
   "cell_type": "code",
   "execution_count": 31,
   "metadata": {},
   "outputs": [],
   "source": [
    "redMsg = add_messages(redMsg, humanMsg2)"
   ]
  },
  {
   "cell_type": "code",
   "execution_count": 32,
   "metadata": {},
   "outputs": [],
   "source": [
    "redMsg = add_messages(redMsg, humanMsg3)\n",
    "redMsg = add_messages(redMsg, humanMsg4)\n"
   ]
  },
  {
   "cell_type": "code",
   "execution_count": 38,
   "metadata": {},
   "outputs": [
    {
     "data": {
      "text/plain": [
       "[HumanMessage(content='Hey How are you', additional_kwargs={}, response_metadata={}, name='human', id='12'),\n",
       " AIMessage(content='Hey fine', additional_kwargs={}, response_metadata={}, name='human', id='123'),\n",
       " HumanMessage(content='Hey ai', additional_kwargs={}, response_metadata={}, name='human', id='124'),\n",
       " AIMessage(content='Hey Human', additional_kwargs={}, response_metadata={}, name='human', id='125'),\n",
       " HumanMessage(content='Heyaaa', additional_kwargs={}, response_metadata={}, name='human', id='126')]"
      ]
     },
     "execution_count": 38,
     "metadata": {},
     "output_type": "execute_result"
    }
   ],
   "source": [
    "redMsg"
   ]
  },
  {
   "cell_type": "code",
   "execution_count": 46,
   "metadata": {},
   "outputs": [
    {
     "data": {
      "text/plain": [
       "[RemoveMessage(content='', additional_kwargs={}, response_metadata={}, id='12'),\n",
       " RemoveMessage(content='', additional_kwargs={}, response_metadata={}, id='123'),\n",
       " RemoveMessage(content='', additional_kwargs={}, response_metadata={}, id='124')]"
      ]
     },
     "execution_count": 46,
     "metadata": {},
     "output_type": "execute_result"
    }
   ],
   "source": [
    "[RemoveMessage(id=msg.id) for msg in redMsg[:-2]]"
   ]
  },
  {
   "cell_type": "code",
   "execution_count": 45,
   "metadata": {},
   "outputs": [
    {
     "data": {
      "text/plain": [
       "[RemoveMessage(content='', additional_kwargs={}, response_metadata={}, id='125'),\n",
       " RemoveMessage(content='', additional_kwargs={}, response_metadata={}, id='126')]"
      ]
     },
     "execution_count": 45,
     "metadata": {},
     "output_type": "execute_result"
    }
   ],
   "source": [
    "final_msg"
   ]
  },
  {
   "cell_type": "code",
   "execution_count": null,
   "metadata": {},
   "outputs": [],
   "source": []
  },
  {
   "cell_type": "markdown",
   "metadata": {},
   "source": [
    "## **Summarization**"
   ]
  },
  {
   "cell_type": "code",
   "execution_count": 47,
   "metadata": {},
   "outputs": [
    {
     "data": {
      "text/plain": [
       "[HumanMessage(content='Hey How are you', additional_kwargs={}, response_metadata={}, name='human', id='12'),\n",
       " AIMessage(content='Hey fine', additional_kwargs={}, response_metadata={}, name='human', id='123'),\n",
       " HumanMessage(content='Hey ai', additional_kwargs={}, response_metadata={}, name='human', id='124'),\n",
       " AIMessage(content='Hey Human', additional_kwargs={}, response_metadata={}, name='human', id='125'),\n",
       " HumanMessage(content='Heyaaa', additional_kwargs={}, response_metadata={}, name='human', id='126')]"
      ]
     },
     "execution_count": 47,
     "metadata": {},
     "output_type": "execute_result"
    }
   ],
   "source": [
    "redMsg"
   ]
  },
  {
   "cell_type": "code",
   "execution_count": 48,
   "metadata": {},
   "outputs": [
    {
     "data": {
      "text/plain": [
       "5"
      ]
     },
     "execution_count": 48,
     "metadata": {},
     "output_type": "execute_result"
    }
   ],
   "source": [
    "if len(redMsg) > 3:\n",
    "    return \"call another llm pass last 3 and perform summarization\""
   ]
  },
  {
   "cell_type": "code",
   "execution_count": null,
   "metadata": {},
   "outputs": [],
   "source": []
  }
 ],
 "metadata": {
  "kernelspec": {
   "display_name": "env",
   "language": "python",
   "name": "python3"
  },
  "language_info": {
   "codemirror_mode": {
    "name": "ipython",
    "version": 3
   },
   "file_extension": ".py",
   "mimetype": "text/x-python",
   "name": "python",
   "nbconvert_exporter": "python",
   "pygments_lexer": "ipython3",
   "version": "3.11.9"
  }
 },
 "nbformat": 4,
 "nbformat_minor": 2
}
